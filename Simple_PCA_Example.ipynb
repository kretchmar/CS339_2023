{
  "nbformat": 4,
  "nbformat_minor": 0,
  "metadata": {
    "colab": {
      "provenance": [],
      "authorship_tag": "ABX9TyPOPNK7QlVqbt0WFdmot9qe",
      "include_colab_link": true
    },
    "kernelspec": {
      "name": "python3",
      "display_name": "Python 3"
    },
    "language_info": {
      "name": "python"
    }
  },
  "cells": [
    {
      "cell_type": "markdown",
      "metadata": {
        "id": "view-in-github",
        "colab_type": "text"
      },
      "source": [
        "<a href=\"https://colab.research.google.com/github/kretchmar/CS339_2023/blob/main/Simple_PCA_Example.ipynb\" target=\"_parent\"><img src=\"https://colab.research.google.com/assets/colab-badge.svg\" alt=\"Open In Colab\"/></a>"
      ]
    },
    {
      "cell_type": "markdown",
      "source": [
        "# Simple PCA Example\n",
        "\n",
        "Matt Kretchmar <p>\n",
        "February 2023 <p>\n",
        "\n",
        "In this notebook we apply the classic PCA algorithm to a trivial data set consisting of 3 points embedded in 2D space.   The goal is to map the samples into a lower dimensional space (ie a 1D space).  We follow the example and mathematics laid out in the class textbook *Geometric Data Analysis* by Mike Kirby.  \n",
        "\n",
        "The PCA algorithm computes the eigen values of the covariance matrix and uses these to form a new basis for casting images.  We can show the data can be captured well with a 1D linear surface by doing an orthogonal projection.  The projection is computed using the eigenvectors of the covariance matrix. \n",
        "\n"
      ],
      "metadata": {
        "id": "A2lCrgHZLx68"
      }
    },
    {
      "cell_type": "code",
      "execution_count": 64,
      "metadata": {
        "id": "zA50o7_A6e1S"
      },
      "outputs": [],
      "source": [
        "# Import Statements\n",
        "import numpy as np\n",
        "import matplotlib.pyplot as plt\n",
        "import random\n",
        "import pandas as pd\n",
        "from scipy import linalg as la\n"
      ]
    },
    {
      "cell_type": "markdown",
      "source": [
        "#### Data\n",
        "\n",
        "The data consists of $n = 3$ data points each of which is a vector in $d=2$ dimensional space.  We can think of the data as a 3x2 matrix:\n",
        "\n",
        "$$\n",
        "X = \\left| \\begin{array}{ccc} - & x^1 & - \\\\ - & x^2 & - \\\\ - & x^3 & - \\\\   \\end{array} \\right|  \\\\ \n",
        "\\ \\\\\n",
        "X = \\left| \\begin{array}{cccc} [ & x^1_1 & x^1_2 & ]  \\\\ \n",
        "[ & x^2_1 & x^2_2 & ]  \\\\\n",
        "[ & x^3_1 & x^3_2 & ]    \\end{array} \\right| \\\\\n",
        "$$\n",
        "\n",
        "where each row is a 2x1 vector for one point in the sample.  "
      ],
      "metadata": {
        "id": "rw5TCQgacZ2N"
      }
    },
    {
      "cell_type": "code",
      "source": [
        "# Create a very simple dataset\n",
        "X = np.array([[6.7, 4.0],[4.6,1.7],[-4.1,-1.3]])\n",
        "print(X.shape)\n",
        "print(X)\n",
        "\n",
        "plt.scatter(X[:,0],X[:,1])\n",
        "plt.xlim([-10,10])\n",
        "plt.ylim([-10,10])\n",
        "plt.plot([-10,10],[0,0],c='k')\n",
        "plt.plot([0,0],[-10,10],c='k')\n",
        "plt.show()"
      ],
      "metadata": {
        "colab": {
          "base_uri": "https://localhost:8080/",
          "height": 338
        },
        "id": "Bj9msDHdB7S1",
        "outputId": "58a9ce34-de3c-46f7-d245-52380e515ab5"
      },
      "execution_count": 65,
      "outputs": [
        {
          "output_type": "stream",
          "name": "stdout",
          "text": [
            "(3, 2)\n",
            "[[ 6.7  4. ]\n",
            " [ 4.6  1.7]\n",
            " [-4.1 -1.3]]\n"
          ]
        },
        {
          "output_type": "display_data",
          "data": {
            "text/plain": [
              "<Figure size 432x288 with 1 Axes>"
            ],
            "image/png": "[encoded data removed]"
          },
          "metadata": {
            "needs_background": "light"
          }
        }
      ]
    },
    {
      "cell_type": "markdown",
      "source": [
        "## Preparations\n",
        "It is typical to mean-center the dataset.  This is done by computing the mean of the samples and then subtracting the mean from each point.  Each remaining point is now called the *charicature* because it is the residual of what is left to make that point \"different\" from the average.  \n",
        "\n",
        "We now call our data $X_c$ to refer to it as the centered data.  "
      ],
      "metadata": {
        "id": "C2NoKLbSSknP"
      }
    },
    {
      "cell_type": "code",
      "source": [
        "meanX = X.mean(axis=0)\n",
        "print(meanX)\n",
        "Xc = (X - meanX)\n",
        "print(Xc)\n",
        "\n",
        "plt.scatter(Xc[:,0],Xc[:,1])\n",
        "plt.xlim([-10,10])\n",
        "plt.ylim([-10,10])\n",
        "plt.plot([-10,10],[0,0],c='k')\n",
        "plt.plot([0,0],[-10,10],c='k')\n",
        "plt.show()\n",
        "\n"
      ],
      "metadata": {
        "colab": {
          "base_uri": "https://localhost:8080/",
          "height": 338
        },
        "id": "V9A8Jl7TSz0q",
        "outputId": "65e0fc18-2d23-4b6e-cc10-a44acf3d211d"
      },
      "execution_count": 66,
      "outputs": [
        {
          "output_type": "stream",
          "name": "stdout",
          "text": [
            "[2.4        1.46666667]\n",
            "[[ 4.3         2.53333333]\n",
            " [ 2.2         0.23333333]\n",
            " [-6.5        -2.76666667]]\n"
          ]
        },
        {
          "output_type": "display_data",
          "data": {
            "text/plain": [
              "<Figure size 432x288 with 1 Axes>"
            ],
            "image/png": "[encoded data removed]"
          },
          "metadata": {
            "needs_background": "light"
          }
        }
      ]
    },
    {
      "cell_type": "markdown",
      "source": [
        "## PCA Computations\n",
        "\n",
        "\n",
        "Typically we either have that $n >> d$ or that $d >> n$.   Deciding which case we have is important for the functionality of the algorithm.   We want to know the dimension of the sub-hyperplane in which the data lies.  This is the smaller of $d$ or $n$.  This dimension of the hyperplane is exactly the number of eigenvalues and eigenvectors we will get from the problem.  \n",
        "\n",
        "#### n > d\n",
        "In the case where $n$ > $d$, we will compute the eigenvalues from the regular $d \\times d$ covariance matrix $C$:   \n",
        "\n",
        "$$\n",
        "C = X^T \\cdot X\n",
        "$$\n",
        "\n",
        "\n"
      ],
      "metadata": {
        "id": "GehNxVBkOLWS"
      }
    },
    {
      "cell_type": "code",
      "source": [
        "# C = the covariance matrix\n",
        "C = np.dot(Xc.transpose(),Xc)\n",
        "print(\"shape of C =\",C.shape)\n",
        "print(C)\n"
      ],
      "metadata": {
        "colab": {
          "base_uri": "https://localhost:8080/",
          "height": 0
        },
        "id": "8YgGa1HTTnz1",
        "outputId": "2472c3fc-3de8-4b61-8480-1680cfd01506"
      },
      "execution_count": 67,
      "outputs": [
        {
          "output_type": "stream",
          "name": "stdout",
          "text": [
            "shape of C = (2, 2)\n",
            "[[65.58       29.39      ]\n",
            " [29.39       14.12666667]]\n"
          ]
        }
      ]
    },
    {
      "cell_type": "markdown",
      "source": [
        "### Eigenvector Deomposition\n",
        "We now compute the eigenvectors of the covariance matrix.   We will interpret the eigenvectors as a matrix of column vectors where each column is one of the eigenvectors.  We will re-order the vectors by order of decreasing eigenvalue so that the \"most important\" eigenvectors come first. \n",
        "\n",
        "$$\n",
        "V = \\left| \\begin{array}{cc} | & | \\\\ v^1 & v^2 \\\\ | & | \\end{array} \\right|\n",
        "$$\n",
        "\n",
        "The eigenvalues give us an idea of the amount of variance in the data in each direction of the eigenvector.   Below we see that the first eigenvalue is about 100 times larger than the second eigenvalue so we conclude that about 99% of the variance will be captured by the direction of the first eigenvector while the remaining eigenvector will capture only 1% of the variance. "
      ],
      "metadata": {
        "id": "kd3qd_70fHWZ"
      }
    },
    {
      "cell_type": "code",
      "source": [
        "# computes the eigenvectors as COLUMN vectors\n",
        "evals,V = la.eig(C)\n",
        "#print('EigenValues:',evals)\n",
        "print('Shape of eigenvectors: ',V.shape)\n",
        "\n",
        "V = V.transpose()\n",
        "\n",
        "\n",
        "\n",
        "# sort indices of eigenvectors by reverse order of eigenvalues (biggest down to smallest)\n",
        "indices = np.argsort(evals)\n",
        "indices = indices[::-1]\n",
        "# re-order the eigenvalues and eigenvalues\n",
        "V = V[indices]\n",
        "evals = evals[indices]\n",
        "\n",
        "print(\"EigenVectors\")\n",
        "print(V)\n",
        "\n",
        "print('First  Eval:',np.absolute(evals[0]))\n",
        "print('Second Eval:',np.absolute(evals[1]))\n",
        "\n",
        "plt.figure()\n",
        "plt.plot(evals)\n",
        "plt.title('Eigenvalues')\n",
        "plt.xlabel('Eigenvalue Number')\n",
        "plt.ylabel('Eigenvalue Magnitude')\n",
        "plt.show()\n",
        "\n",
        "print(evals[0].dtype)\n",
        "total = 0\n",
        "for i in range(len(evals)):\n",
        "  total += np.absolute(evals[i])\n",
        "\n",
        "accum = 0\n",
        "for i in range(2):\n",
        "  percent = np.absolute(evals[i]) / total\n",
        "  accum += percent\n",
        "  print(\"Percent/Accum Percent for Eigval [{0:3d}]: {1:5.2f}  {2:5.2f}\".format(i,percent,accum))\n",
        "\n"
      ],
      "metadata": {
        "colab": {
          "base_uri": "https://localhost:8080/",
          "height": 486
        },
        "id": "gFI0pwEZUOCR",
        "outputId": "b191e9a2-4c0e-4418-e9e1-0061c9063349"
      },
      "execution_count": 68,
      "outputs": [
        {
          "output_type": "stream",
          "name": "stdout",
          "text": [
            "Shape of eigenvectors:  (2, 2)\n",
            "EigenVectors\n",
            "[[ 0.91067438  0.4131249 ]\n",
            " [-0.4131249   0.91067438]]\n",
            "First  Eval: 78.9126917225565\n",
            "Second Eval: 0.7939749441101718\n"
          ]
        },
        {
          "output_type": "stream",
          "name": "stderr",
          "text": [
            "/usr/local/lib/python3.8/dist-packages/matplotlib/cbook/__init__.py:1317: ComplexWarning: Casting complex values to real discards the imaginary part\n",
            "  return np.asarray(x, float)\n"
          ]
        },
        {
          "output_type": "display_data",
          "data": {
            "text/plain": [
              "<Figure size 432x288 with 1 Axes>"
            ],
            "image/png": "[encoded data removed]"
          },
          "metadata": {
            "needs_background": "light"
          }
        },
        {
          "output_type": "stream",
          "name": "stdout",
          "text": [
            "complex128\n",
            "Percent/Accum Percent for Eigval [  0]:  0.99   0.99\n",
            "Percent/Accum Percent for Eigval [  1]:  0.01   1.00\n"
          ]
        }
      ]
    },
    {
      "cell_type": "code",
      "source": [
        "# Sandbox Calculations for Computing Test Values\n",
        "# (not needed for notebook functionality)\n",
        "print(V[0,:])\n",
        "print(np.dot(V[0,:],V[0,:].transpose()))\n",
        "print(Xcenter[0,:])\n",
        "alpha1 = np.dot(V[0,:],Xcenter[0,:].transpose())\n",
        "print('alpha1:',alpha1)\n",
        "alpha2 = np.dot(V[1,:],Xcenter[0,:].transpose())\n",
        "print('alpha2:',alpha2)\n",
        "x1r = alpha1 * V[0,:] + alpha2 * V[1,:]\n",
        "print('x1r:',x1r)\n",
        "print('V:',V)\n",
        "print('Vinv:',np.linalg.pinv(V))\n",
        "\n"
      ],
      "metadata": {
        "colab": {
          "base_uri": "https://localhost:8080/",
          "height": 0
        },
        "id": "V8gY1LVFZBa5",
        "outputId": "2a6dbb34-213c-4b7e-a628-306b103514ba"
      },
      "execution_count": 69,
      "outputs": [
        {
          "output_type": "stream",
          "name": "stdout",
          "text": [
            "[0.91067438 0.4131249 ]\n",
            "0.9999999999999999\n",
            "[4.3        2.53333333]\n",
            "alpha1: 4.9624828900009526\n",
            "alpha2: 0.5306046967616942\n",
            "x1r: [4.3        2.53333333]\n",
            "V: [[ 0.91067438  0.4131249 ]\n",
            " [-0.4131249   0.91067438]]\n",
            "Vinv: [[ 0.91067438 -0.4131249 ]\n",
            " [ 0.4131249   0.91067438]]\n"
          ]
        }
      ]
    },
    {
      "cell_type": "markdown",
      "source": [
        "## Eigenvalue Interpretation\n",
        "\n",
        "Below we see the original basis given by the traditional $x = \\left| \\begin{array}{c} 1 \\\\ 0 \\end{array} \\right|$ and $y = \\left| \\begin{array}{c} 0 \\\\ 1 \\end{array} \\right|$ vectors.  This is called the standard normal basis.  \n",
        "\n",
        "The red line is our first eigenvector and the green line is the second eigenvector, which is orthogonal to the first.  They form a new basis to express the data.  Notice the first eigenvector (red) nearly captures the entire dataset (it almost entirely lies on this line).   \n",
        "\n"
      ],
      "metadata": {
        "id": "__DF0n8hU4qR"
      }
    },
    {
      "cell_type": "code",
      "source": [
        "plt.figure(figsize=(8,8))\n",
        "plt.scatter(Xc[:,0],Xc[:,1],s=70)\n",
        "plt.xlim([-10,10])\n",
        "plt.ylim([-10,10])\n",
        "plt.plot([-10,10],[0,0],c='k')\n",
        "plt.plot([0,0],[-10,10],c='k')\n",
        "\n",
        "P1x = 10\n",
        "P1y = (P1x / V[0,0]) * V[0,1]\n",
        "P2x = -10\n",
        "P2y = P2x / V[0,0] * V[0,1]\n",
        "plt.plot([P1x,P2x],[P1y,P2y],c='red',linewidth=3)\n",
        "\n",
        "P1y = 10\n",
        "P1x = P1y / V[1,1] * V[1,0]\n",
        "P2y = -10\n",
        "P2x = P2y / V[1,1] * V[1,0]\n",
        "plt.plot([P1x,P2x],[P1y,P2y],c='green',linewidth=3)\n",
        "\n",
        "plt.show()"
      ],
      "metadata": {
        "colab": {
          "base_uri": "https://localhost:8080/",
          "height": 487
        },
        "id": "ee9jcdnuOl7F",
        "outputId": "0c51eb72-be65-4b20-cb31-2ee32be89a46"
      },
      "execution_count": 70,
      "outputs": [
        {
          "output_type": "display_data",
          "data": {
            "text/plain": [
              "<Figure size 576x576 with 1 Axes>"
            ],
            "image/png": "[encoded data removed]"
          },
          "metadata": {
            "needs_background": "light"
          }
        }
      ]
    },
    {
      "cell_type": "markdown",
      "source": [
        "Now we want to compute the coefficients of the data in the new basis.   Consider our original centered data from $X_c$.  Our first centered point is\n",
        "\n",
        "$$\n",
        "x_c^1 = \\left| \\begin{array}{ c c } 2.4 &  1.47 \\end{array} \\right|\n",
        "$$\n",
        "\n",
        "We can express this as a series of coefficients multiplied by basis vectors:\n",
        "\n",
        "$$\n",
        "x_c^1 = x_1^1 \\cdot u_1 + x_2^1 \\cdot u_2 = 2.4 \\left| \\begin{array}{c} 1 \\\\ 0 \\end{array} \\right| + 1.47 \\left| \\begin{array}{c} 0 \\\\ 1 \\end{array} \\right|\n",
        "$$\n",
        "where $u_1$ and $u_2$ is the standard normal basis.\n",
        "\n",
        "\n",
        "Alternatively, we can express $x^1$ using the basis spanned by the two eigenvectors:\n",
        "\n",
        "$$\n",
        "x_c^1 = \\alpha_1^1 \\cdot v_1 + \\alpha_2^1 \\cdot v_2 \n",
        "$$\n",
        "where the coefficients are different and now expressed by $\\alpha$.  We can expand on this using matrix notation:\n",
        "\n",
        "$$\n",
        "X = \\alpha V\\\\\n",
        "\\ \\\\\n",
        "X_{3 \\times 2} = \\alpha_{3 \\times 2} V_{2 \\times 2} \\\\\n",
        "\\ \\\\\n",
        "X = \\left| \\begin{array}{cccc} [ & x^1_1 & x^1_2 & ]  \\\\ \n",
        "[ & x^2_1 & x^2_2 & ]  \\\\\n",
        "[ & x^3_1 & x^3_2 & ]    \\end{array} \\right| = \\left| \\begin{array}{cccc} [ & \\alpha^1_1 & \\alpha^1_2 & ]  \\\\ \n",
        "[ & \\alpha^2_1 & \\alpha^2_2 & ]  \\\\\n",
        "[ & \\alpha^3_1 & \\alpha^3_2 & ]    \\end{array} \\right|  \\cdot \n",
        "\\left| \\begin{array}{cc} | & | \\\\ v^1 & v^2 \\\\ | & | \\end{array} \\right|\n",
        "$$\n",
        "\n",
        "\n",
        "To compute $\\alpha$ we solve the inverse equation:\n",
        "\n",
        "$$\n",
        "X = \\alpha V\\\\\n",
        "\\ \\\\\n",
        "X V^{-1} = \\alpha V V^{-1}\\\\\n",
        "\\ \\\\\n",
        "\\alpha = X V^{-1} \n",
        "$$\n",
        "\n",
        "\n"
      ],
      "metadata": {
        "id": "JYfXYIwAb6Ac"
      }
    },
    {
      "cell_type": "code",
      "source": [
        "# We now compute the coefficients for each original image as coordinates that span the eigenspace.  \n",
        "#V = evecs.transpose()\n",
        "alpha = np.dot(Xc,np.linalg.pinv(V))\n",
        "print(alpha.shape)\n",
        "# each row is a set of coordinates for an image\n",
        "print(alpha)\n"
      ],
      "metadata": {
        "colab": {
          "base_uri": "https://localhost:8080/",
          "height": 0
        },
        "id": "4orY6PdGb6g7",
        "outputId": "353d7e1a-0de1-4628-88d5-a1e4d7d8ace5"
      },
      "execution_count": 71,
      "outputs": [
        {
          "output_type": "stream",
          "name": "stdout",
          "text": [
            "(3, 2)\n",
            "[[ 4.96248289  0.5306047 ]\n",
            " [ 2.09987944 -0.69638409]\n",
            " [-7.06236233  0.16577939]]\n"
          ]
        }
      ]
    },
    {
      "cell_type": "markdown",
      "source": [
        "## Reconstruction Example\n",
        " Let us fully reconstruct the data set using all eigenvectors:\n",
        "\n",
        "$$\n",
        "X_r = \\alpha V\\\\\n",
        "$$\n"
      ],
      "metadata": {
        "id": "0CORX1rTcwOe"
      }
    },
    {
      "cell_type": "code",
      "source": [
        "Xr = np.dot(alpha,V)\n",
        "print('X reconstructed')\n",
        "print(Xr)\n",
        "print('X centered (original)')\n",
        "print(Xc) "
      ],
      "metadata": {
        "colab": {
          "base_uri": "https://localhost:8080/",
          "height": 0
        },
        "id": "rI9mfNJ6c25T",
        "outputId": "02fb9438-11da-41eb-9ea6-404b8dc3f7b7"
      },
      "execution_count": 72,
      "outputs": [
        {
          "output_type": "stream",
          "name": "stdout",
          "text": [
            "X reconstructed\n",
            "[[ 4.3         2.53333333]\n",
            " [ 2.2         0.23333333]\n",
            " [-6.5        -2.76666667]]\n",
            "X centered (original)\n",
            "[[ 4.3         2.53333333]\n",
            " [ 2.2         0.23333333]\n",
            " [-6.5        -2.76666667]]\n"
          ]
        }
      ]
    },
    {
      "cell_type": "markdown",
      "source": [
        "## Partial Reconstruction\n",
        "The above is the full, 2-term reconstruction of the data.   It is an exact reproduction of the original mean centered data.  There will be 0 error between this reconstructed and the original.  \n",
        "\n",
        "But we can also opt to perform a partial reconstruction.  We can use the first eigenvector only to do a partial reconstruction.  The partial reconstruction will be an approximation to the original. Because 99% of the variance is captured by the direction of the first eigenvector, the difference between the original and reconstructed data won't be terribly large, but there will be an error.  \n",
        "\n",
        "We call the partial reconstruction $X_p$:\n",
        "\n",
        "$$\n",
        "X_p = \\alpha_1 \\cdot v^1\n",
        "$$"
      ],
      "metadata": {
        "id": "0jlTcuXfeKTM"
      }
    },
    {
      "cell_type": "code",
      "source": [
        "k = 1\n",
        "\n",
        "Xp = np.dot(alpha[:,:k],V[:k,:])\n",
        "print('X partial reconstruction\\n',Xp)\n",
        "print('X centered (original)\\n',Xc)"
      ],
      "metadata": {
        "colab": {
          "base_uri": "https://localhost:8080/",
          "height": 0
        },
        "id": "5JAgUmyVXAO0",
        "outputId": "9f9dfa6d-2b47-4a06-e244-564a6909e57f"
      },
      "execution_count": 73,
      "outputs": [
        {
          "output_type": "stream",
          "name": "stdout",
          "text": [
            "X partial reconstruction\n",
            " [[ 4.51920601  2.05012523]\n",
            " [ 1.9123064   0.86751248]\n",
            " [-6.43151241 -2.91763771]]\n",
            "X centered (original)\n",
            " [[ 4.3         2.53333333]\n",
            " [ 2.2         0.23333333]\n",
            " [-6.5        -2.76666667]]\n"
          ]
        }
      ]
    },
    {
      "cell_type": "markdown",
      "source": [
        "### Visualizing Partial Reconstruction\n",
        "In the graph below, we can see the (orange) points as the partial reconstruction.  Notice they all appear on the vector spanned by the first eigenvector.  This makes sense because each point is expressed as a coefficient times the first eigenvector.   "
      ],
      "metadata": {
        "id": "-bwfC2iro6FF"
      }
    },
    {
      "cell_type": "code",
      "source": [
        "plt.figure(figsize=(8,8))\n",
        "plt.scatter(Xc[:,0],Xc[:,1],s=70,c='blue')\n",
        "plt.scatter(Xp[:,0],Xp[:,1],s=70,c='orange')\n",
        "plt.xlim([-10,10])\n",
        "plt.ylim([-10,10])\n",
        "plt.plot([-10,10],[0,0],c='k')\n",
        "plt.plot([0,0],[-10,10],c='k')\n",
        "\n",
        "P1x = 10\n",
        "P1y = (P1x / V[0,0]) * V[0,1]\n",
        "P2x = -10\n",
        "P2y = P2x / V[0,0] * V[0,1]\n",
        "plt.plot([P1x,P2x],[P1y,P2y],c='red',linewidth=3)\n",
        "\n",
        "P1y = 10\n",
        "P1x = P1y / V[1,1] * V[1,0]\n",
        "P2y = -10\n",
        "P2x = P2y / V[1,1] * V[1,0]\n",
        "plt.plot([P1x,P2x],[P1y,P2y],c='green',linewidth=3)\n",
        "\n",
        "plt.title('Original and Partial Reconstructed Data')\n",
        "\n",
        "import matplotlib.lines as mlines\n",
        "blue_dot = mlines.Line2D([],[],color='blue',marker='.',markersize=15,linestyle='None',label='Original')\n",
        "orange_dot = mlines.Line2D([],[],color='orange',marker='.',markersize=15,linestyle='None',label='Partial')\n",
        "plt.legend(handles=[blue_dot,orange_dot])\n",
        "\n",
        "\n",
        "plt.show()"
      ],
      "metadata": {
        "colab": {
          "base_uri": "https://localhost:8080/",
          "height": 499
        },
        "id": "pTNCp_UP8y93",
        "outputId": "fc2928f0-7065-41d4-a249-4d0a3b458a17"
      },
      "execution_count": 74,
      "outputs": [
        {
          "output_type": "display_data",
          "data": {
            "text/plain": [
              "<Figure size 576x576 with 1 Axes>"
            ],
            "image/png": "[encoded data removed]"
          },
          "metadata": {
            "needs_background": "light"
          }
        }
      ]
    },
    {
      "cell_type": "markdown",
      "source": [
        "## Summary\n",
        "\n",
        "The eignenvectors form a new basis for expressing our data.  The basis is customized to this particular dataset using the covariance matrix from the data.  The first eigenvector captures the most variance in the data.  The second eigenvector is orthogonal to the first and captures the remaining variance in the data.    \n",
        "\n",
        "If we desired a lower dimensional version of the data, we can use the partial reconstruction.  This can be useful for three main reasons:\n",
        "\n",
        "1. Compression: the partial reconstruction may use less memory (or require less bandwidth).  \n",
        "2. Visualization: the partial reconstruction may be in 2 dimensions whereas the original data was expressed in a much higher dimesional space  $(d >> 2)$.  Thus we can project the original data down to a 2D space so that we can visualize it in a plot.  This particular projection optimally captures the most variance in the data of any 2D projection.  \n",
        "3. Learning Speed: Some algorithms may learn much faster and with fewer samples if the data is first projected into a much lower space.  "
      ],
      "metadata": {
        "id": "cq8XfJF9jik1"
      }
    }
  ]
}