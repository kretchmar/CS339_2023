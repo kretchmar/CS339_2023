{
  "nbformat": 4,
  "nbformat_minor": 0,
  "metadata": {
    "colab": {
      "provenance": [],
      "authorship_tag": "ABX9TyPydp78AEkgioeddF+e5P3r",
      "include_colab_link": true
    },
    "kernelspec": {
      "name": "python3",
      "display_name": "Python 3"
    },
    "language_info": {
      "name": "python"
    }
  },
  "cells": [
    {
      "cell_type": "markdown",
      "metadata": {
        "id": "view-in-github",
        "colab_type": "text"
      },
      "source": [
        "<a href=\"https://colab.research.google.com/github/kretchmar/CS339_2023/blob/main/HiHoCherryO_DP.ipynb\" target=\"_parent\"><img src=\"https://colab.research.google.com/assets/colab-badge.svg\" alt=\"Open In Colab\"/></a>"
      ]
    },
    {
      "cell_type": "markdown",
      "source": [
        "# Solving Hi Ho Cherry O Game using Linear Algebra\n",
        "\n",
        "## Game Description\n",
        "\n",
        "In the game, each player has a bucket.  The goal is to put 10 cherries in your own bucket to win the game.  Each player starts with zero cherries.  On each turn, a player spins a spinner.  The spinner has 7 outcomes\n",
        "\n",
        "- Add 1 cherry\n",
        "- Add 2 cherries\n",
        "- Add 3 cherries\n",
        "- Add 4 cherries\n",
        "- Remove 2 cherries (bird eats them)\n",
        "- Remove 2 cherries (dog eats them)\n",
        "- Remove all cherries (spill the bucket)\n",
        "\n",
        "Our goal is to figure out how many spins it takes on average to reach a full bucket of 10 cherries.\n",
        "\n",
        "\n",
        "## Equations\n",
        "\n",
        "We let $s_i$ represent the value of being in state $i$; that is, with $i$ cherries in the bucket.   The value of state $s_i$ is the expected number of spins needed to reach 10 cherries when starting with $i$ cherries.  So $s_0$ will be the expected number of spins when starting with 0 cherries -- the start state of the game and the answer that we seek.\n",
        "\n",
        "The values for $s_i$ are circular in reference.  They refer to each other because there are probabilistic chances of ending up in different states.  For example, from state 6 ($s_6$), we have a 1/7 chance of transitioning to state $s_7$ (1 cherry), $s_8$ (2 cherries), $s_9$ (3 cherries), $s_{10}$ (+4 cherries and the goal), $s_0$ (spill bucket) and a 2/7 chance of transitioning to $s_4$ (-2 cherries for dog or bird).   This results in equation\n",
        "\n",
        "$\n",
        "\\begin{eqnarray*}\n",
        "s_6 & = 1 + & \\frac{1}{7} s_7 + & \\frac{1}{7} s_8 + & \\frac{1}{7} s_9 + & \\frac{1}{7} s_{10} + & \\frac{1}{7} s_0 + & \\frac{2}{7} s_4\n",
        "\\end{eqnarray*}\n",
        "$\n",
        "\n",
        "where the 1 comes from the spin we are doing now.   This creates 11 equations:\n",
        "\n",
        "$\n",
        "\\begin{eqnarray*}\n",
        "s_0 & = 1 + & \\frac{3}{7} s_0 + & \\frac{1}{7} s_1 + & \\frac{1}{7} s_2 + & \\frac{1}{7} s_{3} + & \\frac{1}{7} s_4 \\\\\n",
        "s_1 & = 1 + & \\frac{3}{7} s_0 + & \\frac{1}{7} s_2 + & \\frac{1}{7} s_3 + & \\frac{1}{7} s_4 + & \\frac{1}{7} s_5 \\\\\n",
        "s_2 & = 1 + & \\frac{3}{7} s_0 + & \\frac{1}{7} s_3 + & \\frac{1}{7} s_4 + & \\frac{1}{7} s_5 + & \\frac{1}{7} s_6 \\\\\n",
        "s_3 & = 1 + & \\frac{1}{7} s_0 + & \\frac{2}{7} s_1 + & \\frac{1}{7} s_4 + & \\frac{1}{7} s_5 + & \\frac{1}{7} s_6 + & \\frac{1}{7} s_7 \\\\\n",
        "... \\\\\n",
        "s_9 & = 1 + & \\frac{1}{7} s_0 + & \\frac{2}{7} s_7 + & \\frac{4}{7} s_{10} \\\\\n",
        "s_{10} & = 0\n",
        "\\end{eqnarray*}\n",
        "$\n",
        "\n",
        "We want to move all the coefficients to the RHS and the non-coefficient terms to the LHS.  \n",
        "\n",
        "$\n",
        "\\begin{eqnarray*}\n",
        "1  & =  \\frac{4}{7} s_0 - & \\frac{1}{7} s_1 - & \\frac{1}{7} s_2 - & \\frac{1}{7} s_3 - & \\frac{1}{7} s_4 \\\\\n",
        "1  & =  \\frac{4}{7} s_0 - & \\frac{1}{7} s_2 - & \\frac{1}{7} s_3 - & \\frac{1}{7} s_4 - & \\frac{1}{7} s_5 \\\\\n",
        "... \\\\\n",
        "0 & = s_{10}\n",
        "\\end{eqnarray*}\n",
        "$\n",
        "\n",
        "Now this is in the form of $b = Ax$ where $x$ is the vector of unknowns:\n",
        "\n",
        "$\n",
        "\\begin{eqnarray*}\n",
        "x = [ s_0, s_1, s_2, ..., s_{10}]^T\n",
        "\\end{eqnarray*}\n",
        "$\n",
        "\n",
        "and $b$ is our column vector of non-coefficient terms\n",
        "\n",
        "$\n",
        "\\begin{eqnarray*}\n",
        "b = [ 1, 1, 1, ..., 1, 0]^T\n",
        "\\end{eqnarray*}\n",
        "$\n",
        "\n",
        "and $A$ is the matrix of coefficients:\n",
        "\n",
        "$\n",
        "\\begin{eqnarray*}\n",
        "A = \\left[   \n",
        "\\begin{array}{rrrrrrrrrrr}\n",
        "\\frac{4}{7} & -\\frac{1}{7}  & -\\frac{1}{7}  & -\\frac{1}{7}  & -\\frac{1}{7} & 0 & 0 & 0 & 0 & 0 & 0 & 0 \\\\\n",
        "-\\frac{3}{7} & 1 & -\\frac{1}{7}  & -\\frac{1}{7}  & -\\frac{1}{7}  & -\\frac{1}{7} & 0 & 0 & 0 & 0 & 0 & 0  \\\\\n",
        "-\\frac{3}{7} & 0 & 1 &  -\\frac{1}{7}  & -\\frac{1}{7}  & -\\frac{1}{7}  & -\\frac{1}{7} & 0 & 0 & 0 & 0 & 0  \\\\\n",
        "-\\frac{1}{7} & -\\frac{2}{7} & 0 & 1 &  -\\frac{1}{7}  & -\\frac{1}{7}  & -\\frac{1}{7}  & -\\frac{1}{7} & 0 & 0 & 0  & 0 \\\\\n",
        "... \\\\\n",
        "0 & 0 & 0 & 0 & 0 & 0 & 0 & 0 & 0 & 0 & 0 & 1 \\\\\n",
        "\\end{array} \\right]\n",
        "\\end{eqnarray*}\n",
        "$\n",
        "\n"
      ],
      "metadata": {
        "id": "a28oxR8ZUIRj"
      }
    },
    {
      "cell_type": "code",
      "execution_count": 1,
      "metadata": {
        "id": "J83ALCN_UCxo"
      },
      "outputs": [],
      "source": [
        "import numpy as np"
      ]
    },
    {
      "cell_type": "code",
      "source": [
        "# Note to reader: In the analysis below, I assumed the dog and bird spinner would remove 3 cherries (not 2)\n",
        "# so the equations and results are slightly different, though the process is the same.  \n",
        "\n",
        "A = np.zeros((11,11))\n",
        "A[0] = [4/7, -1/7, -1/7, -1/7, -1/7, 0, 0,0,0,0,0]\n",
        "A[1] = [-3/7,1,-1/7, -1/7, -1/7, -1/7, 0, 0,0,0,0]\n",
        "A[2] = [-3/7,0,1,-1/7, -1/7, -1/7, -1/7, 0, 0,0,0]\n",
        "A[3] = [-3/7,0,0,1,-1/7, -1/7, -1/7, -1/7, 0, 0,0]\n",
        "A[4] = [-1/7,-2/7,0,0,1,-1/7, -1/7, -1/7, -1/7, 0,0]\n",
        "A[5] = [-1/7,0,-2/7,0,0,1,-1/7, -1/7, -1/7, -1/7, 0]\n",
        "A[6] = [-1/7,0,0,-2/7,0,0,1,-1/7, -1/7, -1/7, -1/7]\n",
        "A[7] = [-1/7,0,0,0,-2/7,0,0,1,-1/7, -1/7, -2/7]\n",
        "A[8] = [-1/7,0,0,0,0,-2/7,0,0,1,-1/7, -3/7]\n",
        "A[9] = [-1/7,0,0,0,0,0,-2/7,0,0,1, -4/7]\n",
        "A[10][10] = 1\n",
        "print(A)\n",
        "\n",
        "b = np.ones(11)\n",
        "b[10] = 0\n",
        "print(b)"
      ],
      "metadata": {
        "colab": {
          "base_uri": "https://localhost:8080/"
        },
        "id": "ffkp-NgLUT_E",
        "outputId": "f390210e-c1e2-48ce-ea98-721687c50bfe"
      },
      "execution_count": 2,
      "outputs": [
        {
          "output_type": "stream",
          "name": "stdout",
          "text": [
            "[[ 0.57142857 -0.14285714 -0.14285714 -0.14285714 -0.14285714  0.\n",
            "   0.          0.          0.          0.          0.        ]\n",
            " [-0.42857143  1.         -0.14285714 -0.14285714 -0.14285714 -0.14285714\n",
            "   0.          0.          0.          0.          0.        ]\n",
            " [-0.42857143  0.          1.         -0.14285714 -0.14285714 -0.14285714\n",
            "  -0.14285714  0.          0.          0.          0.        ]\n",
            " [-0.42857143  0.          0.          1.         -0.14285714 -0.14285714\n",
            "  -0.14285714 -0.14285714  0.          0.          0.        ]\n",
            " [-0.14285714 -0.28571429  0.          0.          1.         -0.14285714\n",
            "  -0.14285714 -0.14285714 -0.14285714  0.          0.        ]\n",
            " [-0.14285714  0.         -0.28571429  0.          0.          1.\n",
            "  -0.14285714 -0.14285714 -0.14285714 -0.14285714  0.        ]\n",
            " [-0.14285714  0.          0.         -0.28571429  0.          0.\n",
            "   1.         -0.14285714 -0.14285714 -0.14285714 -0.14285714]\n",
            " [-0.14285714  0.          0.          0.         -0.28571429  0.\n",
            "   0.          1.         -0.14285714 -0.14285714 -0.28571429]\n",
            " [-0.14285714  0.          0.          0.          0.         -0.28571429\n",
            "   0.          0.          1.         -0.14285714 -0.42857143]\n",
            " [-0.14285714  0.          0.          0.          0.          0.\n",
            "  -0.28571429  0.          0.          1.         -0.57142857]\n",
            " [ 0.          0.          0.          0.          0.          0.\n",
            "   0.          0.          0.          0.          1.        ]]\n",
            "[1. 1. 1. 1. 1. 1. 1. 1. 1. 1. 0.]\n"
          ]
        }
      ]
    },
    {
      "cell_type": "code",
      "source": [
        "x = np.linalg.solve(A, b)\n",
        "print(x)"
      ],
      "metadata": {
        "colab": {
          "base_uri": "https://localhost:8080/"
        },
        "id": "dpHT1rBlUWp9",
        "outputId": "ce2009d7-652a-4111-b9bf-78990d24146b"
      },
      "execution_count": 3,
      "outputs": [
        {
          "output_type": "stream",
          "name": "stdout",
          "text": [
            "[17.88160854 17.34461086 16.63636178 15.80113986 14.74432164 13.58562712\n",
            " 11.67861825  9.95458641  8.42058948  6.89126358  0.        ]\n"
          ]
        }
      ]
    }
  ]
}