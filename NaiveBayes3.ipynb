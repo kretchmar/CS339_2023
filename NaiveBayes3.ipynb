{
  "nbformat": 4,
  "nbformat_minor": 0,
  "metadata": {
    "colab": {
      "provenance": [],
      "authorship_tag": "ABX9TyOYMx0X1WSIqO20fEXdQId9",
      "include_colab_link": true
    },
    "kernelspec": {
      "name": "python3",
      "display_name": "Python 3"
    },
    "language_info": {
      "name": "python"
    }
  },
  "cells": [
    {
      "cell_type": "markdown",
      "metadata": {
        "id": "view-in-github",
        "colab_type": "text"
      },
      "source": [
        "<a href=\"https://colab.research.google.com/github/kretchmar/CS339_2023/blob/main/NaiveBayes3.ipynb\" target=\"_parent\"><img src=\"https://colab.research.google.com/assets/colab-badge.svg\" alt=\"Open In Colab\"/></a>"
      ]
    },
    {
      "cell_type": "markdown",
      "source": [
        "# Naive Bayes\n",
        "\n",
        "Matt Kretchmar <p>\n",
        "January 2023 <p>\n",
        "\n",
        "### Purpose\n",
        "This notebook implements the Naive Bayes algorithm in a couple of different ways:\n",
        "\n",
        "* 1D simple gaussian mixture of two categories, using hand-built code\n",
        "* same 1D dataset using scikit model\n",
        "\n"
      ],
      "metadata": {
        "id": "wT-4F7zFkHvu"
      }
    },
    {
      "cell_type": "code",
      "source": [
        "import numpy as np\n",
        "import matplotlib.pyplot as plt\n",
        "import random\n",
        "import pandas as pd\n"
      ],
      "metadata": {
        "id": "EPut7EQPnBDy"
      },
      "execution_count": null,
      "outputs": []
    },
    {
      "cell_type": "markdown",
      "source": [
        "## Make 1D Data\n",
        "\n",
        "Here we create a 1D dataset using numpy"
      ],
      "metadata": {
        "id": "FoNr5FWZm7cS"
      }
    },
    {
      "cell_type": "code",
      "execution_count": null,
      "metadata": {
        "id": "BJ68x7wIkEHI"
      },
      "outputs": [],
      "source": [
        "def createGaussian ( mu, sig, n):\n",
        "  '''\n",
        "  This function creates and returns n samples from a gaussian distribution\n",
        "  of mean=mu and standard deviation=sig\n",
        "  '''\n",
        "  return np.random.normal(mu,sig,n)\n",
        "\n",
        "def make_1D_data ( ):\n",
        "  cat1 = createGaussian(1.0,1.0,100)\n",
        "  cat2 = createGaussian(2.5,2.0,150)\n",
        "  df1 = pd.DataFrame(data=cat1,columns=['x'])\n",
        "  df1['Class'] = 0\n",
        "  df2 = pd.DataFrame(data=cat2,columns=['x'])\n",
        "  df2['Class'] = 1\n",
        "  df = df1.append(df2)\n",
        "  return df\n",
        "\n"
      ]
    },
    {
      "cell_type": "code",
      "source": [
        "data = make_1D_data()\n",
        "print(data)\n",
        "#data['x'].hist(by=data['Class'])\n",
        "fig,ax = plt.subplots(figsize=(10,8))\n",
        "\n",
        "heights_1, bins_1 = np.histogram(data[data.Class==1]['x'],bins=np.linspace(-4,10,num=100))\n",
        "heights_0, bins_0 = np.histogram(data[data.Class==0]['x'],bins=bins_1)\n",
        "\n",
        "#data[data.Class==0].hist(column='x',bins=50,color='teal',alpha=0.5)\n",
        "#data[data.Class==1].hist(column='x',bins=50,color='blue',alpha=0.5)\n",
        "#plt.show()\n",
        "\n",
        "width = (bins_1[1]-bins_1[0]) / 3\n",
        "ax.bar(bins_0[:-1],heights_0,width=width,facecolor='blue')\n",
        "ax.bar(bins_1[:-1]+width,heights_1,width=width,facecolor='red')\n",
        "plt.title('Density of Class 0,1',fontsize=16)\n",
        "plt.legend(['Class 0','Class 1'],fontsize=14)\n",
        "plt.xlabel('X',fontsize=14)\n",
        "plt.ylabel('Frequency',fontsize=14)\n"
      ],
      "metadata": {
        "colab": {
          "base_uri": "https://localhost:8080/",
          "height": 779
        },
        "id": "G3M0OToOoUgY",
        "outputId": "14b2cce8-820d-4ddc-98ab-ab9d225bf9db"
      },
      "execution_count": null,
      "outputs": [
        {
          "output_type": "stream",
          "name": "stdout",
          "text": [
            "            x  Class\n",
            "0    1.668060      0\n",
            "1    1.642462      0\n",
            "2    0.008005      0\n",
            "3    2.813572      0\n",
            "4    1.336059      0\n",
            "..        ...    ...\n",
            "145  2.863748      1\n",
            "146  4.111156      1\n",
            "147  2.261788      1\n",
            "148  1.700730      1\n",
            "149  4.172675      1\n",
            "\n",
            "[250 rows x 2 columns]\n"
          ]
        },
        {
          "output_type": "execute_result",
          "data": {
            "text/plain": [
              "Text(0, 0.5, 'Frequency')"
            ]
          },
          "metadata": {},
          "execution_count": 8
        },
        {
          "output_type": "display_data",
          "data": {
            "text/plain": [
              "<Figure size 720x576 with 1 Axes>"
            ],
            "image/png": "[encoded data removed]"
          },
          "metadata": {
            "needs_background": "light"
          }
        }
      ]
    },
    {
      "cell_type": "code",
      "source": [],
      "metadata": {
        "id": "nGLGOwHqLFNe"
      },
      "execution_count": null,
      "outputs": []
    },
    {
      "cell_type": "code",
      "source": [
        "def buildRandTestSet ( df, percent=0.2 ):\n",
        "  '''\n",
        "  The function takes a dataset and helps break it into a testing set\n",
        "  and a training set.  \n",
        "  PARAMETERS:\n",
        "  df - a pandas dataframe with one column named \"Class\" which\n",
        "  is the target output category.  \n",
        "  The columns are attributes and the rows are samples.  \n",
        "\n",
        "  percent - a percentage between 0 and 1 which indicates how\n",
        "  much of the data should be used for the test set.  The\n",
        "  remaining data is used for the training set.\n",
        "\n",
        "  RETURN VALUE: dfTrain, dfTest\n",
        "  The function returns two pandas dataframes which the same\n",
        "  structure as the input dataframe.  The input dataframe is\n",
        "  partitioned into a test set comprising \"percent\"% of the\n",
        "  rows randomly selected from the original dataframe. The training\n",
        "  set is the remaining 1-percent % of the data rows.  \n",
        "  Note that the input dataframe is first sorted by the \"label\" \n",
        "  columns and the percentage is taken from each category (each\n",
        "  unique label value).  That way the testing and training set\n",
        "  each have approximately the same percentage of samples with\n",
        "  each label value.  \n",
        "  '''\n",
        "  # initialize dfTest and dfTrain to None \n",
        "  dfTest = None\n",
        "  dfTrain = None\n",
        "\n",
        "  # find unique labels and sort dataset by labels\n",
        "  vals = df.Class.unique()\n",
        "  df2 = df.sort_values(by=['Class'])\n",
        "\n",
        "  # for each label, we will select percent of the rows for testing, \n",
        "  # keep the rest for training\n",
        "  for val in vals:\n",
        "    # get subset of rows with this label val\n",
        "    df3 = df2.loc[df2['Class'] == val]\n",
        "    count = len(df3)\n",
        "    # random permutation of all these row indices\n",
        "    shuffle = np.random.permutation(count)\n",
        "    # select set of indices for test set rows \n",
        "    # and training set rows\n",
        "    testIndices = shuffle[:int(count*percent)]\n",
        "    trainIndices = shuffle[int(count*percent):]\n",
        "\n",
        "    testSetTemp = df3.iloc[testIndices]\n",
        "    trainSetTemp = df3.iloc[trainIndices]\n",
        "\n",
        "    # append and build test and training sets\n",
        "    if dfTest is None:\n",
        "      dfTest = testSetTemp\n",
        "      dfTrain = trainSetTemp\n",
        "    else:\n",
        "      dfTest = dfTest.append(testSetTemp)\n",
        "      dfTrain = dfTrain.append(trainSetTemp)\n",
        "\n",
        "  return dfTrain,dfTest\n",
        "\n"
      ],
      "metadata": {
        "id": "U_ei5ny6rZfN"
      },
      "execution_count": null,
      "outputs": []
    },
    {
      "cell_type": "code",
      "source": [
        "trainSet,testSet = buildRandTestSet(data,0.3)\n",
        "print(len(trainSet))\n",
        "print(trainSet)\n",
        "print(len(testSet))\n",
        "print(testSet)"
      ],
      "metadata": {
        "colab": {
          "base_uri": "https://localhost:8080/"
        },
        "id": "lP0p2nGyLRqe",
        "outputId": "c58d91b5-5543-485b-9dbd-e244e9b7f762"
      },
      "execution_count": null,
      "outputs": [
        {
          "output_type": "stream",
          "name": "stdout",
          "text": [
            "175\n",
            "            x  Class\n",
            "83   0.047492      0\n",
            "96  -0.511922      0\n",
            "81   0.231462      0\n",
            "88   1.355712      0\n",
            "46  -0.157855      0\n",
            "..        ...    ...\n",
            "89   2.804419      1\n",
            "145  2.863748      1\n",
            "110  1.660560      1\n",
            "140  0.821797      1\n",
            "5    1.101704      1\n",
            "\n",
            "[175 rows x 2 columns]\n",
            "75\n",
            "            x  Class\n",
            "36   0.999104      0\n",
            "52   2.250743      0\n",
            "38   2.452622      0\n",
            "34   1.139256      0\n",
            "0    1.668060      0\n",
            "..        ...    ...\n",
            "136  2.328771      1\n",
            "43   1.240351      1\n",
            "77   5.232576      1\n",
            "109  3.159318      1\n",
            "71   2.791456      1\n",
            "\n",
            "[75 rows x 2 columns]\n"
          ]
        }
      ]
    },
    {
      "cell_type": "markdown",
      "source": [
        "## Parameter Estimation\n",
        "n = sample size <p>\n",
        "mean = sample mean <p>\n",
        "sigma = sample standard deviation<p>\n"
      ],
      "metadata": {
        "id": "fsCKL3555E47"
      }
    },
    {
      "cell_type": "code",
      "source": [
        "def estimateNormal (data):\n",
        "  '''\n",
        "  data is a numpy array of samples from a single category\n",
        "  returns triplet (n,mu,sig)\n",
        "  '''\n",
        "  n = len(data)\n",
        "  mu = data.mean()\n",
        "  sig = data.std()\n",
        "  return (n,mu,sig)\n",
        "  "
      ],
      "metadata": {
        "id": "Hc9JaaH7tMAx"
      },
      "execution_count": null,
      "outputs": []
    },
    {
      "cell_type": "code",
      "source": [
        "data0 = trainSet[trainSet.Class == 0].x.to_numpy()\n",
        "data1 = trainSet[trainSet.Class == 1].x.to_numpy()\n",
        "#print(data0)\n",
        "#print(data1)\n",
        "(n0,mu0,sig0) = estimateNormal(data0)\n",
        "(n1,mu1,sig1) = estimateNormal(data1)\n",
        "print(\"Class 0\\n\")\n",
        "print(\"\\tSample Size: {0:5d}\".format(n0))\n",
        "print(\"\\tSample Mean: {0:5.2f}\".format(mu0))\n",
        "print(\"\\tSample Sdt:  {0:5.2f}\".format(sig0))\n",
        "print(\"Class 1\\n\")\n",
        "print(\"\\tSample Size: {0:5d}\".format(n1))\n",
        "print(\"\\tSample Mean: {0:5.2f}\".format(mu1))\n",
        "print(\"\\tSample Sdt:  {0:5.2f}\".format(sig1))\n",
        "\n",
        "\n"
      ],
      "metadata": {
        "colab": {
          "base_uri": "https://localhost:8080/"
        },
        "id": "UBzJZR459Z_c",
        "outputId": "38cebda2-5b8b-4984-905d-164ccb5e1d54"
      },
      "execution_count": null,
      "outputs": [
        {
          "output_type": "stream",
          "name": "stdout",
          "text": [
            "Class 0\n",
            "\n",
            "\tSample Size:    70\n",
            "\tSample Mean:  1.01\n",
            "\tSample Sdt:   1.09\n",
            "Class 1\n",
            "\n",
            "\tSample Size:   105\n",
            "\tSample Mean:  2.74\n",
            "\tSample Sdt:   2.11\n"
          ]
        }
      ]
    },
    {
      "cell_type": "markdown",
      "source": [
        "## Bayesian Compuations\n",
        "\n",
        "Functions to compute\n",
        "* prior\n",
        "* likelihood\n",
        "* evidence"
      ],
      "metadata": {
        "id": "hc_P1anY-gj9"
      }
    },
    {
      "cell_type": "code",
      "source": [
        "import scipy.stats\n",
        "\n",
        "def compute_prior (ns,cat):\n",
        "  '''\n",
        "  ns is a list of sample sizes\n",
        "  Computes ni/sum(n)\n",
        "  where ni is the cat from ns\n",
        "  '''\n",
        "  return ns[cat] / ns.sum()\n",
        "\n",
        "def compute_likelihood (x,mu,sig):\n",
        "  '''\n",
        "  Computes Bayesian Likelihood\n",
        "  '''\n",
        "  return scipy.stats.norm(mu,sig).pdf(x)\n",
        "\n",
        "def compute_evidence (x, mus, sigs,priors):\n",
        "  '''\n",
        "  Compute Bayesian evidence where\n",
        "  mus, and sigs are both a list of C means/stds where C is the number of categories\n",
        "  '''\n",
        "  total = 0\n",
        "  for i in range(len(mus)):\n",
        "    total += compute_likelihood(x,mus[i],sigs[i]) * priors[i]\n",
        "\n",
        "  return total\n",
        "\n",
        "def compute_posterior (x,ns,mus,sigs):\n",
        "  '''\n",
        "  Computes the Bayesian Postieriors for each category\n",
        "  mus and sigs are the mu/std for each category\n",
        "  Returns a numpy array of prob for each category\n",
        "  '''\n",
        "  priors = np.zeros((len(mus),1))\n",
        "  for c in range(len(mus)):\n",
        "    priors[c] = compute_prior(ns,c)\n",
        "\n",
        "  evidence = compute_evidence(x,mus,sigs,priors)\n",
        "  posteriors = np.zeros(len(mus))\n",
        "\n",
        "  for c in range(len(mus)):\n",
        "    likelihood = compute_likelihood(x,mus[c],sigs[c])\n",
        "    posteriors[c] = likelihood * priors[c] / evidence\n",
        "\n",
        "  return posteriors\n",
        "\n",
        "\n"
      ],
      "metadata": {
        "id": "aoEs0ACu-ujk"
      },
      "execution_count": null,
      "outputs": []
    },
    {
      "cell_type": "code",
      "source": [
        "x = 1\n",
        "ns = np.array((n0, n1))\n",
        "mus = np.array((mu0,mu1))\n",
        "sigs = np.array((sig0,sig1))\n",
        "posts = compute_posterior(x,ns,mus,sigs)\n",
        "print(posts)\n"
      ],
      "metadata": {
        "colab": {
          "base_uri": "https://localhost:8080/"
        },
        "id": "tu5tz-m7JOy8",
        "outputId": "8492b472-2f9b-4563-c5c6-f6ed1eec98c7"
      },
      "execution_count": null,
      "outputs": [
        {
          "output_type": "stream",
          "name": "stdout",
          "text": [
            "[0.64394372 0.35605628]\n"
          ]
        }
      ]
    },
    {
      "cell_type": "code",
      "source": [
        "\n",
        "print(\"x = \",x)\n",
        "prior0 = compute_prior(ns,0)\n",
        "prior1 = compute_prior(ns,1)\n",
        "print(\"prior0: \",prior0)\n",
        "print(\"prior1: \",prior1)\n",
        "\n",
        "likelihood0 = compute_likelihood(x,mus[0],sigs[0])\n",
        "likelihood1 = compute_likelihood(x,mus[1],sigs[1])\n",
        "print(\"likelihood0: \",likelihood0)\n",
        "print(\"likelihood1: \",likelihood1)\n",
        "\n",
        "priors = np.array((prior0,prior1))\n",
        "evidence = compute_evidence(x,mus,sigs,priors)\n",
        "print(\"evidence: \",evidence)\n",
        "\n",
        "post0 = prior0 * (likelihood0)/evidence\n",
        "post1 = prior1 * (likelihood1)/evidence\n",
        "print(\"post0: \",post0)\n",
        "print(\"post1: \",post1)\n",
        "\n",
        "\n"
      ],
      "metadata": {
        "colab": {
          "base_uri": "https://localhost:8080/"
        },
        "id": "klxXEuNbBK6u",
        "outputId": "b75eb5d4-2be4-46c9-e854-fbd5e5efaf1b"
      },
      "execution_count": null,
      "outputs": [
        {
          "output_type": "stream",
          "name": "stdout",
          "text": [
            "x =  1\n",
            "prior0:  0.4\n",
            "prior1:  0.6\n",
            "likelihood0:  0.3654790194436296\n",
            "likelihood1:  0.13472305661787534\n",
            "evidence:  0.22702544174817707\n",
            "post0:  0.6439437212487032\n",
            "post1:  0.3560562787512967\n"
          ]
        }
      ]
    },
    {
      "cell_type": "markdown",
      "source": [
        "### Plot Posteriors\n"
      ],
      "metadata": {
        "id": "2W-igR3-JfaD"
      }
    },
    {
      "cell_type": "code",
      "source": [
        "x = np.linspace(-3,12,300)\n",
        "y0 = np.zeros(300)\n",
        "y1 = np.zeros(300)\n",
        "\n",
        "for i in range(len(x)):\n",
        "  posts = compute_posterior(x[i],ns,mus,sigs)\n",
        "  y0[i] = posts[0]\n",
        "  y1[i] = posts[1]\n",
        "\n"
      ],
      "metadata": {
        "id": "z3F2WvzQJjg4"
      },
      "execution_count": null,
      "outputs": []
    },
    {
      "cell_type": "code",
      "source": [
        "plt.figure()\n",
        "plt.plot(x,y0,c='red')\n",
        "plt.plot(x,y1,c='blue')\n",
        "plt.title('Posterior Probabilities')\n",
        "plt.xlabel('x')\n",
        "plt.ylabel('Prob')\n",
        "plt.legend(['Cat 0','Cat 1'])\n",
        "plt.show()\n"
      ],
      "metadata": {
        "colab": {
          "base_uri": "https://localhost:8080/",
          "height": 295
        },
        "id": "98ftiKafKKAB",
        "outputId": "600d822a-22a9-4c82-8b79-4cc8130538ce"
      },
      "execution_count": null,
      "outputs": [
        {
          "output_type": "display_data",
          "data": {
            "text/plain": [
              "<Figure size 432x288 with 1 Axes>"
            ],
            "image/png": "[encoded data removed]"
          },
          "metadata": {
            "needs_background": "light"
          }
        }
      ]
    },
    {
      "cell_type": "markdown",
      "source": [
        "### Compute Accuracy on Testset\n"
      ],
      "metadata": {
        "id": "tSPq8gjCMFNZ"
      }
    },
    {
      "cell_type": "code",
      "source": [
        "y = np.zeros(len(testSet)).astype(int)\n",
        "z = np.zeros(len(testSet)).astype(int)\n",
        "for i in range(len(testSet)):\n",
        "  x = testSet.iloc[i,0]\n",
        "  y[i] = testSet.iloc[i,1].astype(int)\n",
        "  posts = compute_posterior(x,ns,mus,sigs)\n",
        "  if posts[0] >= 0.5:\n",
        "    z[i] = 0\n",
        "  else:\n",
        "    z[i] = 1\n",
        "  print(\"Test ({0:5.2f},{1:d}): z={2:d}\".format(x,y[i],z[i]))\n",
        "\n",
        "\n",
        "d = len(y)\n",
        "count_incorrect = np.sum(z != y)\n",
        "accuracy = (d-count_incorrect) / d\n",
        "print(\"Num Test Samples: {0:d}\".format(d))\n",
        "print(\"Num Errors:       {0:d}\".format(count_incorrect))\n",
        "print(\"Accuracy:         {0:4.2f}\".format(accuracy))\n",
        "\n",
        "\n"
      ],
      "metadata": {
        "colab": {
          "base_uri": "https://localhost:8080/"
        },
        "id": "aBuVIzosMJWt",
        "outputId": "fbdbf755-645b-43a9-b4e2-ec238d4b3149"
      },
      "execution_count": null,
      "outputs": [
        {
          "output_type": "stream",
          "name": "stdout",
          "text": [
            "Test ( 1.00,0): z=0\n",
            "Test ( 2.25,0): z=1\n",
            "Test ( 2.45,0): z=1\n",
            "Test ( 1.14,0): z=0\n",
            "Test ( 1.67,0): z=0\n",
            "Test (-0.67,0): z=0\n",
            "Test (-0.06,0): z=0\n",
            "Test ( 0.81,0): z=0\n",
            "Test ( 0.28,0): z=0\n",
            "Test (-1.57,0): z=1\n",
            "Test ( 1.95,0): z=1\n",
            "Test ( 1.64,0): z=0\n",
            "Test ( 1.19,0): z=0\n",
            "Test ( 1.24,0): z=0\n",
            "Test ( 1.07,0): z=0\n",
            "Test (-0.07,0): z=0\n",
            "Test ( 0.96,0): z=0\n",
            "Test ( 0.48,0): z=0\n",
            "Test ( 1.41,0): z=0\n",
            "Test (-0.09,0): z=0\n",
            "Test ( 3.58,0): z=1\n",
            "Test ( 1.95,0): z=1\n",
            "Test ( 1.25,0): z=0\n",
            "Test ( 2.06,0): z=1\n",
            "Test ( 0.77,0): z=0\n",
            "Test ( 1.72,0): z=0\n",
            "Test ( 0.12,0): z=0\n",
            "Test ( 0.99,0): z=0\n",
            "Test (-0.26,0): z=0\n",
            "Test ( 1.38,0): z=0\n",
            "Test ( 2.53,1): z=1\n",
            "Test (-0.42,1): z=0\n",
            "Test ( 1.06,1): z=0\n",
            "Test ( 1.15,1): z=0\n",
            "Test ( 4.51,1): z=1\n",
            "Test ( 3.11,1): z=1\n",
            "Test ( 3.95,1): z=1\n",
            "Test ( 2.31,1): z=1\n",
            "Test ( 0.08,1): z=0\n",
            "Test ( 2.82,1): z=1\n",
            "Test (-2.11,1): z=1\n",
            "Test ( 2.62,1): z=1\n",
            "Test ( 3.05,1): z=1\n",
            "Test ( 2.00,1): z=1\n",
            "Test ( 1.17,1): z=0\n",
            "Test ( 6.27,1): z=1\n",
            "Test ( 3.54,1): z=1\n",
            "Test ( 6.08,1): z=1\n",
            "Test ( 3.21,1): z=1\n",
            "Test ( 4.05,1): z=1\n",
            "Test ( 2.28,1): z=1\n",
            "Test ( 2.19,1): z=1\n",
            "Test ( 1.85,1): z=0\n",
            "Test (-1.37,1): z=1\n",
            "Test ( 2.46,1): z=1\n",
            "Test ( 6.44,1): z=1\n",
            "Test ( 3.93,1): z=1\n",
            "Test (-1.21,1): z=1\n",
            "Test ( 2.79,1): z=1\n",
            "Test ( 2.86,1): z=1\n",
            "Test ( 1.86,1): z=0\n",
            "Test ( 5.23,1): z=1\n",
            "Test ( 2.65,1): z=1\n",
            "Test ( 3.49,1): z=1\n",
            "Test ( 2.38,1): z=1\n",
            "Test ( 4.65,1): z=1\n",
            "Test ( 1.66,1): z=0\n",
            "Test ( 2.26,1): z=1\n",
            "Test ( 2.77,1): z=1\n",
            "Test ( 3.30,1): z=1\n",
            "Test ( 2.33,1): z=1\n",
            "Test ( 1.24,1): z=0\n",
            "Test ( 5.23,1): z=1\n",
            "Test ( 3.16,1): z=1\n",
            "Test ( 2.79,1): z=1\n",
            "Num Test Samples: 75\n",
            "Num Errors:       16\n",
            "Accuracy:         0.79\n"
          ]
        }
      ]
    },
    {
      "cell_type": "markdown",
      "source": [
        "## Use scikit Model on 1D data"
      ],
      "metadata": {
        "id": "T4sAvKoZKoMt"
      }
    },
    {
      "cell_type": "code",
      "source": [
        "from sklearn.naive_bayes import CategoricalNB\n",
        "clf = GaussianNB()\n",
        "\n",
        "# Note that X must be in the form of (n,m) where n is the number of \n",
        "# samples and m is the number of attributes (dimensionality)\n",
        "# Here we have n = | trainSet |\n",
        "# m = 1 since there is only 1 value in each x (1D data)\n",
        "X = trainSet.x.to_numpy()\n",
        "n = len(X)\n",
        "X = X.reshape((n,1))\n",
        "Y = trainSet.Class.to_numpy().astype(int)\n",
        "clf.fit(X,Y)\n",
        "\n"
      ],
      "metadata": {
        "colab": {
          "base_uri": "https://localhost:8080/"
        },
        "id": "7g193MV9KsLV",
        "outputId": "c39afd09-64b4-44fe-c48c-50e01071dc69"
      },
      "execution_count": null,
      "outputs": [
        {
          "output_type": "execute_result",
          "data": {
            "text/plain": [
              "GaussianNB()"
            ]
          },
          "metadata": {},
          "execution_count": 77
        }
      ]
    },
    {
      "cell_type": "code",
      "source": [
        "Xtest = testSet.x.to_numpy()\n",
        "n = len(Xtest)\n",
        "Xtest = Xtest.reshape((n,1))\n",
        "z = clf.predict(Xtest)\n",
        "print(z)\n",
        "\n",
        "y = testSet.Class.to_numpy().astype(int)\n",
        "d = len(y)\n",
        "count_incorrect = np.sum(z != y)\n",
        "accuracy = (d-count_incorrect) / d\n",
        "print(\"Num Test Samples: {0:d}\".format(d))\n",
        "print(\"Num Errors:       {0:d}\".format(count_incorrect))\n",
        "print(\"Accuracy:         {0:4.2f}\".format(accuracy))\n",
        "\n"
      ],
      "metadata": {
        "colab": {
          "base_uri": "https://localhost:8080/"
        },
        "id": "J_Ao9W1iRctE",
        "outputId": "882ad1e0-4091-42d4-b1ce-4133221ff7f1"
      },
      "execution_count": null,
      "outputs": [
        {
          "output_type": "stream",
          "name": "stdout",
          "text": [
            "[0 1 1 0 0 0 0 0 0 1 1 0 0 0 0 0 0 0 0 0 1 1 0 1 0 0 0 0 0 0 1 0 0 0 1 1 1\n",
            " 1 0 1 1 1 1 1 0 1 1 1 1 1 1 1 0 1 1 1 1 1 1 1 0 1 1 1 1 1 0 1 1 1 1 0 1 1\n",
            " 1]\n",
            "Num Test Samples: 75\n",
            "Num Errors:       16\n",
            "Accuracy:         0.79\n"
          ]
        }
      ]
    }
  ]
}