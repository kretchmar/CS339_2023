{
  "nbformat": 4,
  "nbformat_minor": 0,
  "metadata": {
    "colab": {
      "provenance": [],
      "authorship_tag": "ABX9TyOsDWJrgOU54r2og/8nq4hl",
      "include_colab_link": true
    },
    "kernelspec": {
      "name": "python3",
      "display_name": "Python 3"
    },
    "language_info": {
      "name": "python"
    }
  },
  "cells": [
    {
      "cell_type": "markdown",
      "metadata": {
        "id": "view-in-github",
        "colab_type": "text"
      },
      "source": [
        "<a href=\"https://colab.research.google.com/github/kretchmar/CS339_2023/blob/main/MLP_MNIST.ipynb\" target=\"_parent\"><img src=\"https://colab.research.google.com/assets/colab-badge.svg\" alt=\"Open In Colab\"/></a>"
      ]
    },
    {
      "cell_type": "markdown",
      "source": [
        "# Multi-Layer Perceptron on MNIST\n",
        "### Two Layer FF Neural Network to classify two MNIST digits\n",
        "Matt Kretchmar <p>\n",
        "March 2023 <p>"
      ],
      "metadata": {
        "id": "ZswukKwpogHz"
      }
    },
    {
      "cell_type": "code",
      "execution_count": 2,
      "metadata": {
        "id": "PMZIDFafodPr"
      },
      "outputs": [],
      "source": [
        "import pandas as pd\n",
        "import matplotlib.pyplot as plt\n",
        "import numpy as np"
      ]
    },
    {
      "cell_type": "markdown",
      "source": [
        "## Data\n",
        "We extract from the MNIST data two categories: digits \"0\" and digits \"1\"\n",
        "We create new testing, cross validation and training sets containing only these samples from the first two categories. "
      ],
      "metadata": {
        "id": "TtgLhBqcs54V"
      }
    },
    {
      "cell_type": "code",
      "source": [
        "from keras.datasets import mnist\n",
        "(x_train,y_train), (x_test,y_test) = mnist.load_data()\n",
        "\n",
        "# isolate \"0\" in training samples\n",
        "print(\"\\n\\nExtracting Training Data\")\n",
        "cat0 = y_train == 0\n",
        "xt0 = x_train[cat0]\n",
        "yt0 = y_train[cat0]\n",
        "\n",
        "# isolate \"1\" in training samples\n",
        "cat1 = y_train == 1\n",
        "xt1 = x_train[cat1]\n",
        "yt1 = y_train[cat1]\n",
        "\n",
        "x_train = np.concatenate((xt0,xt1),axis=0)\n",
        "y_train = np.concatenate((yt0,yt1),axis=0)\n",
        "\n",
        "\n",
        "# isolate \"0\" in testing samples\n",
        "print(\"\\n\\nExtracting Testing Data\")\n",
        "cat0 = y_test == 0\n",
        "xt0 = x_test[cat0]\n",
        "yt0 = y_test[cat0]\n",
        "\n",
        "# isolate \"1\" in training samples\n",
        "cat1 = y_test == 1\n",
        "xt1 = x_test[cat1]\n",
        "yt1 = y_test[cat1]\n",
        "\n",
        "x_test = np.concatenate((xt0,xt1),axis=0)\n",
        "y_test = np.concatenate((yt0,yt1),axis=0)\n",
        "\n",
        "\n",
        "\n",
        "# randomly shuffle order of training and testing sets\n",
        "n = len(y_train)\n",
        "perm = np.arange(n)\n",
        "np.random.shuffle(perm)\n",
        "x_train = x_train[perm]\n",
        "y_train = y_train[perm]\n",
        "\n",
        "n = len(y_test)\n",
        "perm = np.arange(n)\n",
        "np.random.shuffle(perm)\n",
        "x_test = x_test[perm]\n",
        "y_test = y_test[perm]\n",
        "\n",
        "# use first 2000 samples from training set as cross validation set\n",
        "x_cross = x_train[:2000]\n",
        "x_train = x_train[2000:]\n",
        "y_cross = y_train[:2000]\n",
        "y_train = y_train[2000:]\n",
        "\n",
        "\n",
        "print(\"\\n\\nFinal Data sizes\")\n",
        "print(\"x_train:\",x_train.shape)\n",
        "print(\"y_train:\",y_train.shape)\n",
        "print(\"x_cross:\",x_cross.shape)\n",
        "print(\"y_cross:\",y_cross.shape)\n",
        "print(\"x_test:\",x_test.shape)\n",
        "print(\"y_test:\",y_test.shape)\n",
        "\n",
        "# show first 10 outputs from y_train and y_test\n",
        "print(\"\\n\\nFirst 10 targets from each set\")\n",
        "print(\"y_train:\",y_train[:10])\n",
        "print(\"y_cross:\",y_cross[:10])\n",
        "print(\"y_test:\",y_test[:10])\n",
        "\n",
        "\n",
        "\n",
        "\n",
        "\n"
      ],
      "metadata": {
        "colab": {
          "base_uri": "https://localhost:8080/"
        },
        "id": "64OC7fF0pV7E",
        "outputId": "ff8b8400-8b62-4217-940f-b0924616bb08"
      },
      "execution_count": 59,
      "outputs": [
        {
          "output_type": "stream",
          "name": "stdout",
          "text": [
            "\n",
            "\n",
            "Extracting Training Data\n",
            "\n",
            "\n",
            "Extracting Testing Data\n",
            "\n",
            "\n",
            "Final Data sizes\n",
            "x_train: (10665, 28, 28)\n",
            "y_train: (10665,)\n",
            "x_cross: (2000, 28, 28)\n",
            "y_cross: (2000,)\n",
            "x_test: (2115, 28, 28)\n",
            "y_test: (2115,)\n",
            "\n",
            "\n",
            "First 10 targets from each set\n",
            "y_train: [1 0 0 0 0 1 0 1 0 1]\n",
            "y_cross: [1 1 1 0 0 0 0 1 0 0]\n",
            "y_test: [0 0 1 1 1 0 1 1 1 1]\n"
          ]
        }
      ]
    },
    {
      "cell_type": "code",
      "source": [
        "# Let's display two of the images so we can see what they look like\n",
        "from PIL import Image\n",
        "image1 = x_train[0]\n",
        "print(image1.dtype)\n",
        "print(image1[:10,:30])\n",
        "\n",
        "print(\"\\n\\nImage 0\")\n",
        "im = Image.fromarray(image1)\n",
        "im.show()\n",
        "\n",
        "print(\"\\n\\nImage 3\")\n",
        "image1 = x_train[3]\n",
        "im = Image.fromarray(image1)\n",
        "im.show()\n"
      ],
      "metadata": {
        "colab": {
          "base_uri": "https://localhost:8080/",
          "height": 542
        },
        "id": "vlEHrP24laqz",
        "outputId": "a6e152ca-3d3b-4a95-fded-e33d29b0fd46"
      },
      "execution_count": 60,
      "outputs": [
        {
          "output_type": "stream",
          "name": "stdout",
          "text": [
            "uint8\n",
            "[[  0   0   0   0   0   0   0   0   0   0   0   0   0   0   0   0   0   0\n",
            "    0   0   0   0   0   0   0   0   0   0]\n",
            " [  0   0   0   0   0   0   0   0   0   0   0   0   0   0   0   0   0   0\n",
            "    0   0   0   0   0   0   0   0   0   0]\n",
            " [  0   0   0   0   0   0   0   0   0   0   0   0   0   0   0   0   0   0\n",
            "    0   0   0   0   0   0   0   0   0   0]\n",
            " [  0   0   0   0   0   0   0   0   0   0   0   0   0   0   0   0   0   0\n",
            "    0   0   0   0   0   0   0   0   0   0]\n",
            " [  0   0   0   0   0   0   0   0   0   0   0   0   0   0   0   0   0   0\n",
            "    0   0   0   0   0   0   0   0   0   0]\n",
            " [  0   0   0   0   0   0   0   0   0   0   0   0   0  31 195 131   9   0\n",
            "    0   0   0   0   0   0   0   0   0   0]\n",
            " [  0   0   0   0   0   0   0   0   0   0   0   0   0  29 190 254 123   0\n",
            "    0   0   0   0   0   0   0   0   0   0]\n",
            " [  0   0   0   0   0   0   0   0   0   0   0   0   0  13 183 254 139   0\n",
            "    0   0   0   0   0   0   0   0   0   0]\n",
            " [  0   0   0   0   0   0   0   0   0   0   0   0   0 212 243 254 139   0\n",
            "    0   0   0   0   0   0   0   0   0   0]\n",
            " [  0   0   0   0   0   0   0   0   0   0   0   0   0  32 135 254 139   0\n",
            "    0   0   0   0   0   0   0   0   0   0]]\n",
            "\n",
            "\n",
            "Image 0\n"
          ]
        },
        {
          "output_type": "display_data",
          "data": {
            "text/plain": [
              "<PIL.Image.Image image mode=L size=28x28 at 0x7F22B9D3D1C0>"
            ],
            "image/png": "[encoded data removed]"
          },
          "metadata": {}
        },
        {
          "output_type": "stream",
          "name": "stdout",
          "text": [
            "\n",
            "\n",
            "Image 3\n"
          ]
        },
        {
          "output_type": "display_data",
          "data": {
            "text/plain": [
              "<PIL.Image.Image image mode=L size=28x28 at 0x7F22B98994C0>"
            ],
            "image/png": "[encoded data removed]"
          },
          "metadata": {}
        }
      ]
    },
    {
      "cell_type": "code",
      "source": [
        "# normalize inputs to [0,1] range\n",
        "x_train, x_cross, x_test = x_train/255.0, x_cross/255.0, x_test/255.0"
      ],
      "metadata": {
        "id": "EY5uG8UXZkVh"
      },
      "execution_count": 61,
      "outputs": []
    },
    {
      "cell_type": "markdown",
      "source": [
        "# Neural Network Model\n",
        "We try a two layer perceptron with the following parameters:\n",
        "- Input layer (flattened 28x28)\n",
        "- Hidden layer 100 Relu units\n"
      ],
      "metadata": {
        "id": "BMi9oySsudoD"
      }
    },
    {
      "cell_type": "code",
      "source": [
        "import tensorflow as tf\n",
        "\n",
        "# set random seed to fixed value for reproducibility\n",
        "tf.random.set_seed(42)\n",
        "\n",
        "model = tf.keras.Sequential()\n",
        "# specify input shape\n",
        "model.add(tf.keras.layers.Input(shape=[28,28]))\n",
        "# flatten input from 28,28 to 784\n",
        "model.add(tf.keras.layers.Flatten())\n",
        "# first hidden layer learning 100 features\n",
        "model.add(tf.keras.layers.Dense(100,activation='relu'))\n",
        "# second hidden layer learning 30 deep features\n",
        "model.add(tf.keras.layers.Dense(30,activation='relu'))\n",
        "# output layer of single unit with sigmoid activation\n",
        "model.add(tf.keras.layers.Dense(1,activation='sigmoid'))\n",
        "\n",
        "model.summary()"
      ],
      "metadata": {
        "colab": {
          "base_uri": "https://localhost:8080/"
        },
        "id": "Y-t2T-iSZ9aA",
        "outputId": "36d9fc70-248b-4662-ed20-2e3d2911ed58"
      },
      "execution_count": 62,
      "outputs": [
        {
          "output_type": "stream",
          "name": "stdout",
          "text": [
            "Model: \"sequential_3\"\n",
            "_________________________________________________________________\n",
            " Layer (type)                Output Shape              Param #   \n",
            "=================================================================\n",
            " flatten_3 (Flatten)         (None, 784)               0         \n",
            "                                                                 \n",
            " dense_8 (Dense)             (None, 100)               78500     \n",
            "                                                                 \n",
            " dense_9 (Dense)             (None, 30)                3030      \n",
            "                                                                 \n",
            " dense_10 (Dense)            (None, 1)                 31        \n",
            "                                                                 \n",
            "=================================================================\n",
            "Total params: 81,561\n",
            "Trainable params: 81,561\n",
            "Non-trainable params: 0\n",
            "_________________________________________________________________\n"
          ]
        }
      ]
    },
    {
      "cell_type": "code",
      "source": [
        "model.compile(loss='binary_crossentropy',optimizer='adam',metrics=['accuracy'])"
      ],
      "metadata": {
        "id": "vBMZTTDFbqOm"
      },
      "execution_count": 63,
      "outputs": []
    },
    {
      "cell_type": "code",
      "source": [
        "history = model.fit(x_train,y_train,epochs=30,validation_data=(x_cross,y_cross))"
      ],
      "metadata": {
        "colab": {
          "base_uri": "https://localhost:8080/"
        },
        "id": "SSe0wfsycjhj",
        "outputId": "4f479f2c-efcd-4565-e710-7fd5140a8d30"
      },
      "execution_count": 64,
      "outputs": [
        {
          "output_type": "stream",
          "name": "stdout",
          "text": [
            "Epoch 1/30\n",
            "334/334 [==============================] - 3s 5ms/step - loss: 0.0189 - accuracy: 0.9959 - val_loss: 0.0179 - val_accuracy: 0.9965\n",
            "Epoch 2/30\n",
            "334/334 [==============================] - 2s 5ms/step - loss: 0.0041 - accuracy: 0.9985 - val_loss: 0.0064 - val_accuracy: 0.9990\n",
            "Epoch 3/30\n",
            "334/334 [==============================] - 2s 5ms/step - loss: 0.0016 - accuracy: 0.9994 - val_loss: 0.0067 - val_accuracy: 0.9990\n",
            "Epoch 4/30\n",
            "334/334 [==============================] - 2s 5ms/step - loss: 0.0011 - accuracy: 0.9995 - val_loss: 0.0084 - val_accuracy: 0.9990\n",
            "Epoch 5/30\n",
            "334/334 [==============================] - 2s 5ms/step - loss: 0.0034 - accuracy: 0.9992 - val_loss: 0.0082 - val_accuracy: 0.9990\n",
            "Epoch 6/30\n",
            "334/334 [==============================] - 2s 6ms/step - loss: 6.9090e-04 - accuracy: 0.9998 - val_loss: 0.0062 - val_accuracy: 0.9990\n",
            "Epoch 7/30\n",
            "334/334 [==============================] - 3s 8ms/step - loss: 0.0011 - accuracy: 0.9995 - val_loss: 0.0089 - val_accuracy: 0.9980\n",
            "Epoch 8/30\n",
            "334/334 [==============================] - 2s 5ms/step - loss: 2.1016e-04 - accuracy: 1.0000 - val_loss: 0.0097 - val_accuracy: 0.9985\n",
            "Epoch 9/30\n",
            "334/334 [==============================] - 2s 5ms/step - loss: 5.0363e-05 - accuracy: 1.0000 - val_loss: 0.0090 - val_accuracy: 0.9985\n",
            "Epoch 10/30\n",
            "334/334 [==============================] - 2s 5ms/step - loss: 1.7487e-05 - accuracy: 1.0000 - val_loss: 0.0093 - val_accuracy: 0.9985\n",
            "Epoch 11/30\n",
            "334/334 [==============================] - 2s 5ms/step - loss: 1.3020e-05 - accuracy: 1.0000 - val_loss: 0.0096 - val_accuracy: 0.9985\n",
            "Epoch 12/30\n",
            "334/334 [==============================] - 2s 5ms/step - loss: 1.0123e-05 - accuracy: 1.0000 - val_loss: 0.0099 - val_accuracy: 0.9985\n",
            "Epoch 13/30\n",
            "334/334 [==============================] - 2s 6ms/step - loss: 8.1875e-06 - accuracy: 1.0000 - val_loss: 0.0101 - val_accuracy: 0.9985\n",
            "Epoch 14/30\n",
            "334/334 [==============================] - 2s 7ms/step - loss: 6.4701e-06 - accuracy: 1.0000 - val_loss: 0.0102 - val_accuracy: 0.9985\n",
            "Epoch 15/30\n",
            "334/334 [==============================] - 2s 5ms/step - loss: 5.2136e-06 - accuracy: 1.0000 - val_loss: 0.0104 - val_accuracy: 0.9985\n",
            "Epoch 16/30\n",
            "334/334 [==============================] - 2s 5ms/step - loss: 4.1902e-06 - accuracy: 1.0000 - val_loss: 0.0107 - val_accuracy: 0.9985\n",
            "Epoch 17/30\n",
            "334/334 [==============================] - 2s 5ms/step - loss: 3.5903e-06 - accuracy: 1.0000 - val_loss: 0.0108 - val_accuracy: 0.9985\n",
            "Epoch 18/30\n",
            "334/334 [==============================] - 2s 5ms/step - loss: 2.8022e-06 - accuracy: 1.0000 - val_loss: 0.0111 - val_accuracy: 0.9985\n",
            "Epoch 19/30\n",
            "334/334 [==============================] - 2s 5ms/step - loss: 2.2955e-06 - accuracy: 1.0000 - val_loss: 0.0112 - val_accuracy: 0.9985\n",
            "Epoch 20/30\n",
            "334/334 [==============================] - 2s 6ms/step - loss: 1.9308e-06 - accuracy: 1.0000 - val_loss: 0.0114 - val_accuracy: 0.9985\n",
            "Epoch 21/30\n",
            "334/334 [==============================] - 2s 7ms/step - loss: 1.5681e-06 - accuracy: 1.0000 - val_loss: 0.0116 - val_accuracy: 0.9985\n",
            "Epoch 22/30\n",
            "334/334 [==============================] - 2s 5ms/step - loss: 1.3186e-06 - accuracy: 1.0000 - val_loss: 0.0117 - val_accuracy: 0.9985\n",
            "Epoch 23/30\n",
            "334/334 [==============================] - 2s 5ms/step - loss: 1.0822e-06 - accuracy: 1.0000 - val_loss: 0.0120 - val_accuracy: 0.9985\n",
            "Epoch 24/30\n",
            "334/334 [==============================] - 2s 5ms/step - loss: 9.1814e-07 - accuracy: 1.0000 - val_loss: 0.0121 - val_accuracy: 0.9985\n",
            "Epoch 25/30\n",
            "334/334 [==============================] - 2s 5ms/step - loss: 7.5953e-07 - accuracy: 1.0000 - val_loss: 0.0122 - val_accuracy: 0.9985\n",
            "Epoch 26/30\n",
            "334/334 [==============================] - 2s 5ms/step - loss: 6.3676e-07 - accuracy: 1.0000 - val_loss: 0.0124 - val_accuracy: 0.9985\n",
            "Epoch 27/30\n",
            "334/334 [==============================] - 2s 5ms/step - loss: 5.2273e-07 - accuracy: 1.0000 - val_loss: 0.0126 - val_accuracy: 0.9985\n",
            "Epoch 28/30\n",
            "334/334 [==============================] - 2s 7ms/step - loss: 4.6014e-07 - accuracy: 1.0000 - val_loss: 0.0127 - val_accuracy: 0.9985\n",
            "Epoch 29/30\n",
            "334/334 [==============================] - 2s 5ms/step - loss: 3.8044e-07 - accuracy: 1.0000 - val_loss: 0.0130 - val_accuracy: 0.9985\n",
            "Epoch 30/30\n",
            "334/334 [==============================] - 2s 5ms/step - loss: 3.1228e-07 - accuracy: 1.0000 - val_loss: 0.0132 - val_accuracy: 0.9985\n"
          ]
        }
      ]
    },
    {
      "cell_type": "markdown",
      "source": [
        "## Interpretting Training\n",
        "We can see two conclusions from the above data\n",
        "1. This model is probably too complex (too sophisticated) for the task.  We can see that very good learning is achieved almost immediately.  We should probably try again with a smaller model.\n",
        "2. We have slightly over-fit the data.  The cross validation loss is minimal after 2 epochs.  We should have stopped training then.  "
      ],
      "metadata": {
        "id": "YP1gmBOv773o"
      }
    },
    {
      "cell_type": "code",
      "source": [
        "# plotting history\n",
        "pd.DataFrame(history.history).plot(figsize=(8,5),grid=True,xlabel='Epoch',style=['r--','r--.','b-','b-*'])\n",
        "plt.show()"
      ],
      "metadata": {
        "colab": {
          "base_uri": "https://localhost:8080/",
          "height": 334
        },
        "outputId": "2884985f-46c5-4e48-984e-6ff9b5cfef45",
        "id": "ZfVkHAyed-TN"
      },
      "execution_count": 65,
      "outputs": [
        {
          "output_type": "display_data",
          "data": {
            "text/plain": [
              "<Figure size 576x360 with 1 Axes>"
            ],
            "image/png": "[encoded data removed]"
          },
          "metadata": {
            "needs_background": "light"
          }
        }
      ]
    },
    {
      "cell_type": "code",
      "source": [
        "model.evaluate(x_test,y_test)"
      ],
      "metadata": {
        "colab": {
          "base_uri": "https://localhost:8080/"
        },
        "id": "if__XM5vj_Vt",
        "outputId": "803ea566-12f9-4173-b4c2-414eb6cb9420"
      },
      "execution_count": 66,
      "outputs": [
        {
          "output_type": "stream",
          "name": "stdout",
          "text": [
            "67/67 [==============================] - 0s 3ms/step - loss: 0.0044 - accuracy: 0.9995\n"
          ]
        },
        {
          "output_type": "execute_result",
          "data": {
            "text/plain": [
              "[0.0043656788766384125, 0.9995272159576416]"
            ]
          },
          "metadata": {},
          "execution_count": 66
        }
      ]
    },
    {
      "cell_type": "code",
      "source": [
        "y_predict = model.predict(x_test)\n",
        "y_predict = y_predict[:,0]\n",
        "y_out = np.where(y_predict > 0.5,1,0)\n",
        "\n",
        "misses = (~np.equal(y_test,y_out)).astype(int)\n",
        "miss_idx = np.flatnonzero(misses)\n",
        "print('miss indices =',miss_idx)\n",
        "\n",
        "print('y_test:',y_test[559:569])\n",
        "print('y_out :',y_out[559:569])\n",
        "\n",
        "print(\"\\n\\nImage 559\")\n",
        "image1 = x_test[559].reshape(28,28) * 255.0 \n",
        "im = Image.fromarray(image1.astype('uint8'))\n",
        "im.show()\n"
      ],
      "metadata": {
        "colab": {
          "base_uri": "https://localhost:8080/",
          "height": 167
        },
        "id": "GJSMwpDokHgO",
        "outputId": "b61b22ab-9cec-432c-9b04-f32c10c62cc9"
      },
      "execution_count": 77,
      "outputs": [
        {
          "output_type": "stream",
          "name": "stdout",
          "text": [
            "67/67 [==============================] - 1s 8ms/step\n",
            "miss indices = [559]\n",
            "y_test: [0 1 1 0 0 1 1 1 0 1]\n",
            "y_out : [1 1 1 0 0 1 1 1 0 1]\n",
            "\n",
            "\n",
            "Image 559\n"
          ]
        },
        {
          "output_type": "display_data",
          "data": {
            "text/plain": [
              "<PIL.Image.Image image mode=L size=28x28 at 0x7F22B056F880>"
            ],
            "image/png": "[encoded data removed]"
          },
          "metadata": {}
        }
      ]
    },
    {
      "cell_type": "markdown",
      "source": [
        "## Model 2\n",
        "This model is much too complex for such a simple task.  Let's try a smaller model.    \n",
        "\n",
        "\n",
        "---\n",
        "\n",
        "\n"
      ],
      "metadata": {
        "id": "GNPyKIZldDV-"
      }
    },
    {
      "cell_type": "code",
      "source": [
        "# set random seed to fixed value for reproducibility\n",
        "tf.random.set_seed(42)\n",
        "\n",
        "model2 = tf.keras.Sequential()\n",
        "# specify input shape\n",
        "model2.add(tf.keras.layers.Input(shape=[28,28]))\n",
        "# flatten input from 28,28 to 784\n",
        "model2.add(tf.keras.layers.Flatten())\n",
        "# first hidden layer learning 100 features\n",
        "model2.add(tf.keras.layers.Dense(30,activation='relu'))\n",
        "# output layer of single unit with sigmoid activation\n",
        "model2.add(tf.keras.layers.Dense(1,activation='sigmoid'))\n",
        "\n",
        "model2.summary()"
      ],
      "metadata": {
        "colab": {
          "base_uri": "https://localhost:8080/"
        },
        "id": "2KM7KVv6dLa3",
        "outputId": "aeea8525-5bf5-4e55-b32b-26b61d1fa110"
      },
      "execution_count": 69,
      "outputs": [
        {
          "output_type": "stream",
          "name": "stdout",
          "text": [
            "Model: \"sequential_4\"\n",
            "_________________________________________________________________\n",
            " Layer (type)                Output Shape              Param #   \n",
            "=================================================================\n",
            " flatten_4 (Flatten)         (None, 784)               0         \n",
            "                                                                 \n",
            " dense_11 (Dense)            (None, 30)                23550     \n",
            "                                                                 \n",
            " dense_12 (Dense)            (None, 1)                 31        \n",
            "                                                                 \n",
            "=================================================================\n",
            "Total params: 23,581\n",
            "Trainable params: 23,581\n",
            "Non-trainable params: 0\n",
            "_________________________________________________________________\n"
          ]
        }
      ]
    },
    {
      "cell_type": "code",
      "source": [
        "model2.compile(loss='binary_crossentropy',optimizer='adam',metrics=['accuracy'])\n",
        "history = model2.fit(x_train,y_train,epochs=10,validation_data=(x_cross,y_cross))\n",
        "pd.DataFrame(history.history).plot(figsize=(8,5),grid=True,xlabel='Epoch',style=['r--','r--.','b-','b-*'])\n",
        "plt.show()\n"
      ],
      "metadata": {
        "colab": {
          "base_uri": "https://localhost:8080/",
          "height": 681
        },
        "id": "p8y0xNG96FEb",
        "outputId": "ac576b63-8793-47e1-b474-11c2f7953772"
      },
      "execution_count": 72,
      "outputs": [
        {
          "output_type": "stream",
          "name": "stdout",
          "text": [
            "Epoch 1/10\n",
            "334/334 [==============================] - 2s 4ms/step - loss: 2.8318e-05 - accuracy: 1.0000 - val_loss: 0.0155 - val_accuracy: 0.9975\n",
            "Epoch 2/10\n",
            "334/334 [==============================] - 1s 4ms/step - loss: 6.2176e-06 - accuracy: 1.0000 - val_loss: 0.0131 - val_accuracy: 0.9985\n",
            "Epoch 3/10\n",
            "334/334 [==============================] - 2s 4ms/step - loss: 5.7013e-04 - accuracy: 0.9999 - val_loss: 0.0130 - val_accuracy: 0.9985\n",
            "Epoch 4/10\n",
            "334/334 [==============================] - 2s 5ms/step - loss: 3.3673e-06 - accuracy: 1.0000 - val_loss: 0.0125 - val_accuracy: 0.9985\n",
            "Epoch 5/10\n",
            "334/334 [==============================] - 2s 6ms/step - loss: 2.3257e-06 - accuracy: 1.0000 - val_loss: 0.0124 - val_accuracy: 0.9985\n",
            "Epoch 6/10\n",
            "334/334 [==============================] - 1s 4ms/step - loss: 1.8442e-06 - accuracy: 1.0000 - val_loss: 0.0124 - val_accuracy: 0.9985\n",
            "Epoch 7/10\n",
            "334/334 [==============================] - 1s 4ms/step - loss: 1.5590e-06 - accuracy: 1.0000 - val_loss: 0.0125 - val_accuracy: 0.9985\n",
            "Epoch 8/10\n",
            "334/334 [==============================] - 1s 4ms/step - loss: 1.3274e-06 - accuracy: 1.0000 - val_loss: 0.0125 - val_accuracy: 0.9985\n",
            "Epoch 9/10\n",
            "334/334 [==============================] - 1s 4ms/step - loss: 1.1578e-06 - accuracy: 1.0000 - val_loss: 0.0126 - val_accuracy: 0.9985\n",
            "Epoch 10/10\n",
            "334/334 [==============================] - 1s 4ms/step - loss: 1.0235e-06 - accuracy: 1.0000 - val_loss: 0.0126 - val_accuracy: 0.9985\n"
          ]
        },
        {
          "output_type": "display_data",
          "data": {
            "text/plain": [
              "<Figure size 576x360 with 1 Axes>"
            ],
            "image/png": "[encoded data removed]"
          },
          "metadata": {
            "needs_background": "light"
          }
        }
      ]
    },
    {
      "cell_type": "code",
      "source": [
        "model2.evaluate(x_test,y_test)"
      ],
      "metadata": {
        "colab": {
          "base_uri": "https://localhost:8080/"
        },
        "id": "6-UeEIV764ua",
        "outputId": "1ff3c971-60d5-48bf-92d1-7d7c0a37cfe1"
      },
      "execution_count": 73,
      "outputs": [
        {
          "output_type": "stream",
          "name": "stdout",
          "text": [
            "67/67 [==============================] - 0s 3ms/step - loss: 0.0023 - accuracy: 0.9991\n"
          ]
        },
        {
          "output_type": "execute_result",
          "data": {
            "text/plain": [
              "[0.0023377735633403063, 0.9990543723106384]"
            ]
          },
          "metadata": {},
          "execution_count": 73
        }
      ]
    },
    {
      "cell_type": "code",
      "source": [
        "y_predict = model2.predict(x_test)\n",
        "y_predict = y_predict[:,0]\n",
        "y_out = np.where(y_predict > 0.5,1,0)\n",
        "misses = (~np.equal(y_test,y_out)).astype(int)\n",
        "miss_idx = np.flatnonzero(misses)\n",
        "print('miss indices =',miss_idx)\n",
        "\n",
        "print('y_test:',y_test[1556:1566])\n",
        "print('y_out :',y_out[1556:1566])\n",
        "\n",
        "print(\"\\n\\nImage 1556\")\n",
        "image1 = x_test[1556].reshape(28,28) * 255.0 \n",
        "im = Image.fromarray(image1.astype('uint8'))\n",
        "im.show()"
      ],
      "metadata": {
        "colab": {
          "base_uri": "https://localhost:8080/",
          "height": 167
        },
        "id": "CbcLJKumdVA4",
        "outputId": "376d71a8-a2bf-492a-8dca-7f0a4bbb8e48"
      },
      "execution_count": 76,
      "outputs": [
        {
          "output_type": "stream",
          "name": "stdout",
          "text": [
            "67/67 [==============================] - 0s 2ms/step\n",
            "miss indices = [ 559 1556]\n",
            "y_test: [1 0 1 0 1 0 1 0 1 1]\n",
            "y_out : [0 0 1 0 1 0 1 0 1 1]\n",
            "\n",
            "\n",
            "Image 1556\n"
          ]
        },
        {
          "output_type": "display_data",
          "data": {
            "text/plain": [
              "<PIL.Image.Image image mode=L size=28x28 at 0x7F22B055A820>"
            ],
            "image/png": "[encoded data removed]"
          },
          "metadata": {}
        }
      ]
    },
    {
      "cell_type": "markdown",
      "source": [
        "## Summary\n",
        "We can build a two layer neural network with only 30 hidden units that achieves 99.9% classification accuracy on the test set.   "
      ],
      "metadata": {
        "id": "Avbx4Fnw9dfZ"
      }
    }
  ]
}