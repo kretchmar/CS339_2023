{
  "nbformat": 4,
  "nbformat_minor": 0,
  "metadata": {
    "colab": {
      "provenance": [],
      "authorship_tag": "ABX9TyNBuSj04/B6gVm/H9hOFs2l",
      "include_colab_link": true
    },
    "kernelspec": {
      "name": "python3",
      "display_name": "Python 3"
    },
    "language_info": {
      "name": "python"
    }
  },
  "cells": [
    {
      "cell_type": "markdown",
      "metadata": {
        "id": "view-in-github",
        "colab_type": "text"
      },
      "source": [
        "<a href=\"https://colab.research.google.com/github/kretchmar/CS339_2023/blob/main/HiHoCherryO_MC.ipynb\" target=\"_parent\"><img src=\"https://colab.research.google.com/assets/colab-badge.svg\" alt=\"Open In Colab\"/></a>"
      ]
    },
    {
      "cell_type": "markdown",
      "source": [
        "# Solving Hi Ho Cherry O Game using Monte Carlo\n",
        "\n",
        "## Game Description\n",
        "\n",
        "In the game, each player has a bucket.  The goal is to put 10 cherries in your own bucket to win the game.  Each player starts with zero cherries.  On each turn, a player spins a spinner.  The spinner has 7 outcomes\n",
        "\n",
        "- Add 1 cherry\n",
        "- Add 2 cherries\n",
        "- Add 3 cherries\n",
        "- Add 4 cherries\n",
        "- Remove 2 cherries (bird eats them)\n",
        "- Remove 2 cherries (dog eats them)\n",
        "- Remove all cherries (spill the bucket)\n",
        "\n",
        "Our goal is to figure out how many spins it takes on average to reach a full bucket of 10 cherries.\n",
        "\n",
        "\n",
        "## Equations\n",
        "\n",
        "We let $v_i$ represent the value of being in state $i$; that is, with $i$ cherries in the bucket.   The value of state $v_i$ is the expected number of spins needed to reach 10 cherries when starting with $i$ cherries.  So $v_0$ will be the expected number of spins when starting with 0 cherries -- the start state of the game and the answer that we seek.\n",
        "\n",
        "\n"
      ],
      "metadata": {
        "id": "a28oxR8ZUIRj"
      }
    },
    {
      "cell_type": "code",
      "execution_count": 2,
      "metadata": {
        "id": "J83ALCN_UCxo"
      },
      "outputs": [],
      "source": [
        "import numpy as np"
      ]
    },
    {
      "cell_type": "code",
      "source": [
        "# Note to reader: In the analysis below, I assumed the dog and bird spinner would remove 3 cherries (not 2)\n",
        "# so the equations and results are slightly different, though the process is the same.  \n",
        "\n",
        "def update (s):\n",
        "  '''\n",
        "  Compute next state given state s\n",
        "  s = number of cherries in bucket\n",
        "  '''\n",
        "  spin = np.random.randint(1,8)\n",
        "  if spin <= 4:\n",
        "    return min(10,s+spin)\n",
        "  elif spin <= 6:\n",
        "    return max(0,s-3)\n",
        "  else:\n",
        "    return 0\n",
        "\n",
        "def trajectory ():\n",
        "  '''\n",
        "  Simulate one trajectory of experience\n",
        "  Return list of states during trajectory\n",
        "  '''\n",
        "  traj = [0]\n",
        "  s = 0\n",
        "  while ( s < 10):\n",
        "    s = update(s)\n",
        "    traj.append(s)\n",
        "  return traj\n",
        "\n",
        "def init ():\n",
        "  totals = np.zeros(11)\n",
        "  count = np.zeros(11)\n",
        "  return totals,count\n",
        "\n",
        "def policy_evaluation(totals,count,n):\n",
        "  '''\n",
        "  do n trajectories of learning\n",
        "  and update the v/count arrays\n",
        "  '''\n",
        "  for i in range(n):\n",
        "    t = trajectory()\n",
        "    m = len(t)\n",
        "    for j in range(m):\n",
        "      cost = m-1-j\n",
        "      s = t[j]\n",
        "      count[s] += 1\n",
        "      totals[s] += cost\n",
        "\n",
        "\n",
        "def compute_value (totals,count):\n",
        "  v = totals / count\n",
        "  return v\n",
        "\n"
      ],
      "metadata": {
        "id": "ffkp-NgLUT_E"
      },
      "execution_count": 38,
      "outputs": []
    },
    {
      "cell_type": "code",
      "source": [
        "t = trajectory()\n",
        "print(t)"
      ],
      "metadata": {
        "colab": {
          "base_uri": "https://localhost:8080/"
        },
        "id": "PIAKB5YHXMqO",
        "outputId": "c215b1e0-569c-4eaa-bdad-2317fb552d16"
      },
      "execution_count": 24,
      "outputs": [
        {
          "output_type": "stream",
          "name": "stdout",
          "text": [
            "[0, 4, 7, 10]\n"
          ]
        }
      ]
    },
    {
      "cell_type": "code",
      "source": [
        "totals,counts = init()\n"
      ],
      "metadata": {
        "id": "dpHT1rBlUWp9"
      },
      "execution_count": 37,
      "outputs": []
    },
    {
      "cell_type": "code",
      "source": [
        "policy_evaluation(totals,counts,500)\n",
        "print(totals)\n",
        "print(counts)\n",
        "v = compute_value(totals,counts)\n",
        "print(v)"
      ],
      "metadata": {
        "colab": {
          "base_uri": "https://localhost:8080/"
        },
        "id": "_4bM1O4uaD9a",
        "outputId": "204d8918-37f4-4271-e582-c7c783800cf6"
      },
      "execution_count": 44,
      "outputs": [
        {
          "output_type": "stream",
          "name": "stdout",
          "text": [
            "[122440.  26228.  25364.  27083.  26370.  14953.  11850.   7792.   5607.\n",
            "   3190.      0.]\n",
            "[6884. 1543. 1507. 1731. 1835. 1117. 1041.  813.  682.  540. 1000.]\n",
            "[17.78617083 16.99805574 16.83078965 15.64586944 14.37057221 13.38675022\n",
            " 11.3832853   9.58425584  8.22140762  5.90740741  0.        ]\n"
          ]
        }
      ]
    }
  ]
}