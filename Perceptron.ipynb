{
  "nbformat": 4,
  "nbformat_minor": 0,
  "metadata": {
    "colab": {
      "provenance": [],
      "authorship_tag": "ABX9TyNnaHCuvmC/EnzCIIIup699",
      "include_colab_link": true
    },
    "kernelspec": {
      "name": "python3",
      "display_name": "Python 3"
    },
    "language_info": {
      "name": "python"
    }
  },
  "cells": [
    {
      "cell_type": "markdown",
      "metadata": {
        "id": "view-in-github",
        "colab_type": "text"
      },
      "source": [
        "<a href=\"https://colab.research.google.com/github/kretchmar/CS339_2023/blob/main/Perceptron.ipynb\" target=\"_parent\"><img src=\"https://colab.research.google.com/assets/colab-badge.svg\" alt=\"Open In Colab\"/></a>"
      ]
    },
    {
      "cell_type": "markdown",
      "source": [
        "# Perceptron\n",
        "by Matt Kretchmar <p>\n",
        "February 2023 <p>\n",
        "\n",
        "This notebook implements the basic perceptron learning rule on a very simple 2D dataset.   \n"
      ],
      "metadata": {
        "id": "lHyT6Bj7bheK"
      }
    },
    {
      "cell_type": "code",
      "execution_count": 68,
      "metadata": {
        "id": "pQDRFC0ibTJM"
      },
      "outputs": [],
      "source": [
        "import numpy as np\n",
        "import matplotlib.pyplot as plt\n",
        "import scipy.linalg as linalg\n"
      ]
    },
    {
      "cell_type": "markdown",
      "source": [
        "### Dataset\n",
        "Make a simple 2D dataset"
      ],
      "metadata": {
        "id": "ZLuzPyJeBypI"
      }
    },
    {
      "cell_type": "code",
      "source": [
        "n = 15\n",
        "x = np.random.uniform(low=-2,high=+2,size=(n,2))\n",
        "print(x)\n",
        "\n",
        "t = np.zeros(n)\n",
        "for i in range(n):\n",
        "  if x[i,1] > -0.5*x[i,0] + 0.5:\n",
        "    t[i] = -1\n",
        "  else:\n",
        "    t[i] = +1\n",
        "\n",
        "print('t =',t)\n",
        "pos_x_indices = np.argwhere(t>0)\n",
        "neg_x_indices = np.argwhere(t<0)\n",
        "\n",
        "xp = x[pos_x_indices]\n",
        "plt.figure(0,figsize=(20,10))\n",
        "plt.scatter(x[pos_x_indices,0],x[pos_x_indices,1],c='blue')\n",
        "plt.scatter(x[neg_x_indices,0],x[neg_x_indices,1],c='red')\n",
        "plt.plot([0,0],[-2,+2],c='black')\n",
        "plt.plot([-2,+2],[0,0],c='black')\n",
        "plt.show()\n",
        "\n"
      ],
      "metadata": {
        "colab": {
          "base_uri": "https://localhost:8080/",
          "height": 870
        },
        "id": "mVpyqbYYB99M",
        "outputId": "adfb0a8d-36bd-41bd-d67c-15116690c118"
      },
      "execution_count": 69,
      "outputs": [
        {
          "output_type": "stream",
          "name": "stdout",
          "text": [
            "[[-0.37589351  1.17633783]\n",
            " [ 1.23572614 -0.20244307]\n",
            " [ 0.0446754   0.65039119]\n",
            " [ 0.96411124 -0.48030544]\n",
            " [ 1.23078548  1.60375159]\n",
            " [ 0.01965121 -1.55277534]\n",
            " [ 1.28834389 -0.74807964]\n",
            " [-0.08137565 -0.6662521 ]\n",
            " [ 1.11560096 -1.62563418]\n",
            " [ 1.91160947  0.46570808]\n",
            " [-1.94606394  1.44411355]\n",
            " [-0.84666647  1.58123189]\n",
            " [ 1.45718188 -1.19868372]\n",
            " [ 1.00823957 -0.58699115]\n",
            " [-1.8102716   0.99936139]]\n",
            "t = [-1.  1. -1.  1. -1.  1.  1.  1.  1. -1.  1. -1.  1.  1.  1.]\n"
          ]
        },
        {
          "output_type": "display_data",
          "data": {
            "text/plain": [
              "<Figure size 1440x720 with 1 Axes>"
            ],
            "image/png": "[encoded data removed]"
          },
          "metadata": {
            "needs_background": "light"
          }
        }
      ]
    },
    {
      "cell_type": "markdown",
      "source": [
        "## Basic Functions\n",
        "These are the basic functions to implement the perceptron code. "
      ],
      "metadata": {
        "id": "-slAsDacl0e4"
      }
    },
    {
      "cell_type": "code",
      "source": [
        "def sign (x):\n",
        "  '''\n",
        "  sign function\n",
        "  '''\n",
        "  if x > 0:\n",
        "    return 1\n",
        "  elif x < 0:\n",
        "    return -1\n",
        "  else:\n",
        "    return 0\n",
        "\n",
        "def sigmoid (x):\n",
        "  '''\n",
        "  sigmoid function\n",
        "  '''\n",
        "  return 1 / (1 + np.exp(-x))\n",
        "\n",
        "def tanh (x):\n",
        "  '''\n",
        "  hyperbolic tangent function\n",
        "  '''\n",
        "  return np.tanh(-x)\n",
        "\n",
        "def predict (x,w):\n",
        "  '''\n",
        "  x is a single data point with dimension d\n",
        "  w is a weight vector with dimension d+1\n",
        "  returns the prediction of x based on w\n",
        "  '''\n",
        "  # prepend a -1 to the data sample\n",
        "  x = np.insert(x,0,-1,axis=0)\n",
        "  sum = np.dot(w,x.transpose())\n",
        "  return sign(sum)\n",
        "\n",
        "def initWeights (d):\n",
        "  '''\n",
        "  If data lies in d-dimensional space, we need to create a\n",
        "  d+1 dimensional weight vector (extra term for bias unit)\n",
        "  All weights are generated by sampling from gausian \n",
        "  normal distribution of mean=0, mu=1.\n",
        "  '''\n",
        "  return np.random.normal(loc=0,scale=1,size=(d+1))\n",
        "  \n",
        "def fitOne (w,x,t,alpha):\n",
        "  '''\n",
        "  Fit one data point\n",
        "  INPUTS:\n",
        "  w - current d+1 dim weight vector\n",
        "  x - d dimensional input sample\n",
        "  t - desired target value (single value)\n",
        "  alpha = learning rate\n",
        "  RETURN VALUE:\n",
        "  w - new value for weights\n",
        "  '''\n",
        "  y = predict(x,w)\n",
        "  xp = np.insert(x,0,-1,axis=0)\n",
        "  dw = xp * (t-y) * alpha\n",
        "  w = w + dw\n",
        "  return w\n",
        "\n",
        "def fit (w,x,t,alpha):\n",
        "  '''\n",
        "  Fit data points\n",
        "  INPUTS:\n",
        "  w - current d+1 dim weight vector\n",
        "  x - nxd dimensional input (n samples, each d dimensions)\n",
        "  t - desired target value (d dimensions)\n",
        "  alpha = learning rate\n",
        "  RETURN VALUE:\n",
        "  w - new value for weights\n",
        "  '''\n",
        "  for i in range(len(t)):\n",
        "    xp = x[i]\n",
        "    tp = t[i]\n",
        "    w = fitOne(w,xp,tp,alpha)\n",
        "\n",
        "  return w\n",
        "\n",
        "\n",
        "\n"
      ],
      "metadata": {
        "id": "5JCOgjHGE5oT"
      },
      "execution_count": 63,
      "outputs": []
    },
    {
      "cell_type": "markdown",
      "source": [
        "## Graphing Functions\n",
        "These functions help us visualize the performance and decision boundary of the perceptron"
      ],
      "metadata": {
        "id": "rBDZuVotl7Ls"
      }
    },
    {
      "cell_type": "code",
      "source": [
        "def plotDecisionGrid (w):\n",
        "  z = np.linspace(-2,2,20)\n",
        "  plt.plot([0,0],[-2,+2],c='black')\n",
        "  plt.plot([-2,+2],[0,0],c='black')\n",
        "  for i in range(20):\n",
        "    for j in range(20):\n",
        "      x = np.array((z[i],z[j]))\n",
        "      y = predict(x,w)\n",
        "      if y > 0:\n",
        "        plt.scatter(x[0],x[1],c='blue',s=3)\n",
        "      else:\n",
        "        plt.scatter(x[0],x[1],c='red',s=3)\n",
        "\n",
        "def plotDataResults (w,x,t):\n",
        "  n = len(t)\n",
        "  y = np.zeros(n)\n",
        "  for i in range(n):\n",
        "    xp = x[i]\n",
        "    y = predict(xp,w)\n",
        "    if t[i] > 0:\n",
        "      color = 'blue'\n",
        "    else:\n",
        "      color = 'red'\n",
        "    if y == t[i]:\n",
        "      marker = 'o'\n",
        "    else:\n",
        "      marker = 'x'\n",
        "    plt.scatter(xp[0],xp[1],c=color,marker=marker,s=30)\n",
        "\n"
      ],
      "metadata": {
        "id": "4La_-o3s39Fv"
      },
      "execution_count": 57,
      "outputs": []
    },
    {
      "cell_type": "markdown",
      "source": [
        "## Init Weights\n",
        "Create an intial set of weights"
      ],
      "metadata": {
        "id": "_emSfZSlmBz1"
      }
    },
    {
      "cell_type": "code",
      "source": [
        "#w = [-1,-1,-2]\n",
        "w = initWeights(2)\n",
        "w = w / np.linalg.norm(w)"
      ],
      "metadata": {
        "id": "DzNRyK787XgF"
      },
      "execution_count": 76,
      "outputs": []
    },
    {
      "cell_type": "code",
      "source": [
        "\n",
        "print(w)\n",
        "print(x)\n",
        "print(t)\n",
        "plt.figure(0,figsize=(20,10))\n",
        "plotDecisionGrid(w)\n",
        "plotDataResults(w,x,t)\n",
        "plt.show()\n",
        "\n"
      ],
      "metadata": {
        "colab": {
          "base_uri": "https://localhost:8080/",
          "height": 887
        },
        "id": "FEeRiwz8Fwn4",
        "outputId": "86b74bf4-9a06-42bb-ce44-365777254717"
      },
      "execution_count": 77,
      "outputs": [
        {
          "output_type": "stream",
          "name": "stdout",
          "text": [
            "[-0.2058375  -0.28835342  0.93513808]\n",
            "[[-0.37589351  1.17633783]\n",
            " [ 1.23572614 -0.20244307]\n",
            " [ 0.0446754   0.65039119]\n",
            " [ 0.96411124 -0.48030544]\n",
            " [ 1.23078548  1.60375159]\n",
            " [ 0.01965121 -1.55277534]\n",
            " [ 1.28834389 -0.74807964]\n",
            " [-0.08137565 -0.6662521 ]\n",
            " [ 1.11560096 -1.62563418]\n",
            " [ 1.91160947  0.46570808]\n",
            " [-1.94606394  1.44411355]\n",
            " [-0.84666647  1.58123189]\n",
            " [ 1.45718188 -1.19868372]\n",
            " [ 1.00823957 -0.58699115]\n",
            " [-1.8102716   0.99936139]]\n",
            "[-1.  1. -1.  1. -1.  1.  1.  1.  1. -1.  1. -1.  1.  1.  1.]\n"
          ]
        },
        {
          "output_type": "display_data",
          "data": {
            "text/plain": [
              "<Figure size 1440x720 with 1 Axes>"
            ],
            "image/png": "[encoded data removed]"
          },
          "metadata": {
            "needs_background": "light"
          }
        }
      ]
    },
    {
      "cell_type": "code",
      "source": [
        "# Do 1 epoch of training and then retest\n",
        "alpha = 0.1\n",
        "print('w before: \\n',w)\n",
        "w = fit(w,x,t,alpha)\n",
        "w = w / np.linalg.norm(w)\n",
        "print('w after: \\n',w)\n",
        "plt.figure(0,figsize=(20,10))\n",
        "plotDecisionGrid(w)\n",
        "plotDataResults(w,x,t)\n",
        "plt.show()\n",
        "\n"
      ],
      "metadata": {
        "colab": {
          "base_uri": "https://localhost:8080/",
          "height": 661
        },
        "id": "vMcaRNT12Wfo",
        "outputId": "922e5500-933f-4269-9a18-905554941265"
      },
      "execution_count": 78,
      "outputs": [
        {
          "output_type": "stream",
          "name": "stdout",
          "text": [
            "w before: \n",
            " [-0.2058375  -0.28835342  0.93513808]\n",
            "w after: \n",
            " [-0.57271967 -0.6735806  -0.46720589]\n"
          ]
        },
        {
          "output_type": "display_data",
          "data": {
            "text/plain": [
              "<Figure size 1440x720 with 1 Axes>"
            ],
            "image/png": "[encoded data removed]"
          },
          "metadata": {
            "needs_background": "light"
          }
        }
      ]
    },
    {
      "cell_type": "code",
      "source": [
        "# Do another epoch of training and then retest\n",
        "alpha = 0.1\n",
        "print('w before: \\n',w)\n",
        "w = fit(w,x,t,alpha)\n",
        "w = w / np.linalg.norm(w)\n",
        "print('w after: \\n',w)\n",
        "plt.figure(0,figsize=(20,10))\n",
        "plotDecisionGrid(w)\n",
        "plotDataResults(w,x,t)\n",
        "plt.show()\n",
        "\n"
      ],
      "metadata": {
        "colab": {
          "base_uri": "https://localhost:8080/",
          "height": 661
        },
        "id": "F3Koy93alk3Y",
        "outputId": "9050bf9b-7bcf-46bd-a12d-db9c1e235399"
      },
      "execution_count": 79,
      "outputs": [
        {
          "output_type": "stream",
          "name": "stdout",
          "text": [
            "w before: \n",
            " [-0.57271967 -0.6735806  -0.46720589]\n",
            "w after: \n",
            " [-0.32864093 -0.5114706  -0.7939729 ]\n"
          ]
        },
        {
          "output_type": "display_data",
          "data": {
            "text/plain": [
              "<Figure size 1440x720 with 1 Axes>"
            ],
            "image/png": "[encoded data removed]"
          },
          "metadata": {
            "needs_background": "light"
          }
        }
      ]
    },
    {
      "cell_type": "code",
      "source": [
        "# Do a third epoch of training with lower learning rate and then retest\n",
        "alpha = 0.05\n",
        "print('w before: \\n',w)\n",
        "w = fit(w,x,t,alpha)\n",
        "w = w / np.linalg.norm(w)\n",
        "print('w after: \\n',w)\n",
        "plt.figure(0,figsize=(20,10))\n",
        "plotDecisionGrid(w)\n",
        "plotDataResults(w,x,t)\n",
        "plt.show()\n",
        "\n"
      ],
      "metadata": {
        "colab": {
          "base_uri": "https://localhost:8080/",
          "height": 661
        },
        "id": "LaT3jHxgltax",
        "outputId": "1b604632-0185-4a10-cc9d-cd1b238db15f"
      },
      "execution_count": 80,
      "outputs": [
        {
          "output_type": "stream",
          "name": "stdout",
          "text": [
            "w before: \n",
            " [-0.32864093 -0.5114706  -0.7939729 ]\n",
            "w after: \n",
            " [-0.42925358 -0.3884524  -0.81538095]\n"
          ]
        },
        {
          "output_type": "display_data",
          "data": {
            "text/plain": [
              "<Figure size 1440x720 with 1 Axes>"
            ],
            "image/png": "[encoded data removed]"
          },
          "metadata": {
            "needs_background": "light"
          }
        }
      ]
    }
  ]
}