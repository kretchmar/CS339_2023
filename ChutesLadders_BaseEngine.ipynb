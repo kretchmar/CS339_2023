{
  "cells": [
    {
      "cell_type": "markdown",
      "metadata": {
        "id": "view-in-github",
        "colab_type": "text"
      },
      "source": [
        "<a href=\"https://colab.research.google.com/github/kretchmar/CS339_2023/blob/main/ChutesLadders_BaseEngine.ipynb\" target=\"_parent\"><img src=\"https://colab.research.google.com/assets/colab-badge.svg\" alt=\"Open In Colab\"/></a>"
      ]
    },
    {
      "cell_type": "markdown",
      "metadata": {
        "id": "D06HLrgr_3pB"
      },
      "source": [
        "# Chutes and Ladders with XXX Methods\n",
        "This notebook uses XXX to solve the Chutes and Ladders modified game.\n",
        "\n",
        "The game board is shown below.  Players start on Square 0 (outside the board) and move towards the goal space (State 100).  Landing at the bottom of ladder moves the player to the top, while landing at the top of a chute moves the player to the bottom square.  \n",
        "\n",
        "\n",
        "<img src=\"https://drive.google.com/uc?export=view&id=16k2EflsluUXCPVWVgL-vyv5-IzOqWZvW\" alt=\"Drawing\" width=\"500\"/>\n",
        "\n",
        "\n",
        "At each turn, the player may choose one of four dice (Effron Dice)\n",
        "- Blue: 3,3,3,3,3,3\n",
        "- Black: 4,4,4,4,0,0\n",
        "- Red: 6,6,2,2,2,2\n",
        "- Green: 5,5,5,1,1,1\n",
        "\n",
        "The **purpose** of this code is to determine which dice to select at each turn so as to minimize the number of steps it takes to reach the goal state.  "
      ]
    },
    {
      "cell_type": "code",
      "execution_count": null,
      "metadata": {
        "id": "liPxRhku_3pD"
      },
      "outputs": [],
      "source": [
        "# import statements\n",
        "import random\n",
        "import numpy as np\n",
        "import matplotlib.pyplot as plt\n"
      ]
    },
    {
      "cell_type": "markdown",
      "metadata": {
        "id": "h9d3-37f_3pE"
      },
      "source": [
        "## State Transition Code"
      ]
    },
    {
      "cell_type": "code",
      "execution_count": null,
      "metadata": {
        "id": "q1ow_Tdi_3pE"
      },
      "outputs": [],
      "source": [
        "def nextState (state,roll):\n",
        "    '''\n",
        "    This function transitions from the current state and current dice roll to the next state.\n",
        "    INPUTS:\n",
        "        state is the current state you are in (0 to 100)\n",
        "        roll is the number showing on the dice (1 to 6)\n",
        "    RETURN VALUE:\n",
        "    this function returns the next state integer\n",
        "    '''\n",
        "    # we create a dictionary for the ladders and chutes.  The key is the start state of the chute/ladder\n",
        "    # and the value is the ending state.  \n",
        "    ladders = {1:38,4:14,9:31,21:42,28:84,36:44,51:67,71:91,80:100}\n",
        "    chutes = {16:6,48:26,49:11,56:53,62:19,64:60,87:24,93:73,95:75,98:78}\n",
        "    \n",
        "    next_state = state + roll\n",
        "    if next_state > 100:\n",
        "        next_state = 100\n",
        "    # now check for ladders\n",
        "    if next_state in ladders:\n",
        "        next_state = ladders[next_state]\n",
        "    # now check for chutes\n",
        "    if next_state in chutes:\n",
        "        next_state = chutes[next_state]\n",
        "        \n",
        "    return next_state\n",
        "    \n",
        "def roll (dice_color):\n",
        "    '''\n",
        "    This function randomly rolls one of the four effron dice.  \n",
        "    INPUT:\n",
        "    dice_color should be among \"red\",\"blue\",\"black\", or \"green\"\n",
        "    OUTPUT:\n",
        "    an integer randomly selected from one of the dice\n",
        "    '''\n",
        "    \n",
        "    if dice_color == 'red':\n",
        "        return random.choice([2,2,2,2,6,6])\n",
        "    if dice_color == 'blue':\n",
        "        return 3\n",
        "    if dice_color == 'black':\n",
        "        return random.choice([0,0,4,4,4,4])\n",
        "    if dice_color == 'green':\n",
        "        return random.choice([1,1,1,5,5,5])\n",
        "    # for invalid input\n",
        "    return None\n",
        "\n"
      ]
    }
  ],
  "metadata": {
    "kernelspec": {
      "display_name": "Python 3",
      "language": "python",
      "name": "python3"
    },
    "language_info": {
      "codemirror_mode": {
        "name": "ipython",
        "version": 3
      },
      "file_extension": ".py",
      "mimetype": "text/x-python",
      "name": "python",
      "nbconvert_exporter": "python",
      "pygments_lexer": "ipython3",
      "version": "3.8.3"
    },
    "colab": {
      "provenance": [],
      "include_colab_link": true
    }
  },
  "nbformat": 4,
  "nbformat_minor": 0
}